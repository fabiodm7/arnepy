{
 "cells": [
  {
   "cell_type": "markdown",
   "metadata": {},
   "source": [
    "# Problem 1:\n",
    "\n",
    "If n is an integer greater than 0, n factorial (n!) is the product: n* (n-1) * (n-2) * ( n-3)… *\n",
    "\n",
    "By convention, 0! = 1.\n",
    "\n",
    "You must write a program that allows a user to enter an integer between 1 and 7. Your program must then compute the factorial of the number entered by the user.\n",
    "\n",
    "Your solution MUST actually perform a computation (i.e., you may not simply print “5040” to the screen as a literal value if the input is 7)."
   ]
  },
  {
   "cell_type": "code",
   "execution_count": 1,
   "metadata": {},
   "outputs": [
    {
     "name": "stdout",
     "output_type": "stream",
     "text": [
      "O número deve ser um inteiro entre o 0 e 7!\n"
     ]
    }
   ],
   "source": [
    "def fatorial(numero):\n",
    "    if numero == 0:\n",
    "        return 1\n",
    "    numero = numero * (fatorial(numero - 1))\n",
    "    return numero\n",
    "\n",
    "numero = int(input(\"Insira um numero de 1 a 7: \"))\n",
    "\n",
    "if 0 <= numero <= 7:\n",
    "    print(fatorial(numero))\n",
    "else:\n",
    "    print(\"O número deve ser um inteiro entre o 0 e 7!\")"
   ]
  },
  {
   "cell_type": "markdown",
   "metadata": {},
   "source": [
    "# Problem 2:\n",
    "\n",
    "The Jones Trucking Company tracks the location of each of its trucks on a grid similar to an (x, y) plane. The home office is at location (0, 0). Read the coordinates of truck A and the coordinates of truck B and determine which is closer to the office.\n",
    "\n",
    "Input: The first line of the data set for this problem is an integer representing the number of collections of data that follow. Each collection contains 4 integers: the x-coordinate and then the y-coordinate of truck A followed by the x-coordinate and then the y-coordinate of truck B."
   ]
  },
  {
   "cell_type": "code",
   "execution_count": 4,
   "metadata": {},
   "outputs": [
    {
     "name": "stdout",
     "output_type": "stream",
     "text": [
      "O caminhão A está mais próximo que B.\n"
     ]
    }
   ],
   "source": [
    "from math import sqrt\n",
    "\n",
    "truckA = []\n",
    "truckB = []\n",
    "\n",
    "for i in range(2):\n",
    "    truckA.append(int(input('Insira a posição do caminhão A: ')))\n",
    "\n",
    "for i in range(2):\n",
    "    truckB.append(int(input('Insira a posição do caminhão B: ')))\n",
    "\n",
    "distanciaA = sqrt((truckA[0]) ** 2 + (truckA[1]) ** 2)\n",
    "\n",
    "distanciaB = sqrt((truckB[0]) ** 2 + (truckB[1]) ** 2)\n",
    "\n",
    "if distanciaA <= distanciaB:\n",
    "    print('O caminhão A está mais próximo que B.')\n",
    "else:\n",
    "    print('O caminhão B está mais próximo que A.')"
   ]
  },
  {
   "cell_type": "code",
   "execution_count": 3,
   "metadata": {},
   "outputs": [
    {
     "name": "stdout",
     "output_type": "stream",
     "text": [
      "O caminhão A está mais próximo que B.\n"
     ]
    }
   ],
   "source": [
    "colecoes = int(input('Insira o número de testes que serão realizados: '))\n",
    "\n",
    "def distancia_entre_pontos(x1=0,x2=0,y1=0,y2=0):\n",
    "    return sqrt((x1-x2) ** 2 + (y1-y2) ** 2)\n",
    "\n",
    "caminhoes = []\n",
    "for i in range(colecoes):\n",
    "    caminhoes.append([])\n",
    "    for j in range(4):\n",
    "        caminhoes[i].append(float(input('Insira a coordenada: ')))\n",
    "\n",
    "    distanciaA = distancia_entre_pontos(x1=caminhoes[i][0],y1=caminhoes[i][1])\n",
    "    distanciaB = distancia_entre_pontos(x1=caminhoes[i][2],y1=caminhoes[i][3])\n",
    "\n",
    "    if distanciaA <= distanciaB:\n",
    "        print('O caminhão A está mais próximo que B.')\n",
    "    else:\n",
    "        print('O caminhão B está mais próximo que A.')"
   ]
  },
  {
   "cell_type": "markdown",
   "metadata": {},
   "source": [
    "# Problem 3:\n",
    "\n",
    "In this problem you must write a program that determines if two circles intersect each other. The input to your program will be the coordinates for the center of each circle, followed by the radius of each circle.\n",
    "\n",
    "The output will state whether the circles overlap, do not overlap, or are tangential (i.e., tangential circles touch each other at just one common point).\n",
    "\n",
    "**Example 1:**\n",
    "\n",
    "Enter the coordinates and radius for circle 1: 10 10 3\n",
    "\n",
    "Enter the coordinates and radius for circle 2: 10 6 1\n",
    "\n",
    "The circles are tangential."
   ]
  },
  {
   "cell_type": "code",
   "execution_count": 5,
   "metadata": {},
   "outputs": [
    {
     "name": "stdout",
     "output_type": "stream",
     "text": [
      "The circles overlap. R1 + R2 = 2.0 e distância entre os centros = 0.0\n"
     ]
    }
   ],
   "source": [
    "# se R1 + R2 > distancia entre C1 e C2 : Os circulos se sobrepõem\n",
    "# se R1 + R2 < distancia entre C1 e C2 : Os circulos não se sobrepõem\n",
    "# se R1 + R2 = distancia entre C1 e C2 : Os circulos são tangenciais\n",
    "\n",
    "circulo1 = []\n",
    "circulo2 = []\n",
    "\n",
    "for i in range(3):\n",
    "    circulo1.append(float(input(\"Enter the coordinates and radius for circle 1: \")))\n",
    "\n",
    "for i in range(3):\n",
    "    circulo2.append(float(input(\"Enter the coordinates and radius for circle 2: \")))\n",
    "\n",
    "r1 = circulo1[2]\n",
    "r2 = circulo2[2]\n",
    "\n",
    "distancia_centros = distancia_entre_pontos(circulo1[0],circulo2[0],circulo1[1],circulo2[1])\n",
    "\n",
    "if (r1 + r2) == distancia_centros:\n",
    "    print(\"The circles are tangential. R1 + R2 = {} e distância entre os centros = {}\".format((r1+r2),distancia_centros))\n",
    "elif (r1 + r2) > distancia_centros:\n",
    "    print(\"The circles overlap. R1 + R2 = {} e distância entre os centros = {}\".format((r1+r2),distancia_centros))\n",
    "elif (r1 + r2) < distancia_centros:\n",
    "    print(\"The circles do not overlap. R1 + R2 = {} e distância entre os centros = {}\".format((r1+r2),distancia_centros))"
   ]
  },
  {
   "cell_type": "markdown",
   "metadata": {},
   "source": [
    "# Problem 4:\n",
    "\n",
    "The sum of the squares of the first ten natural numbers is, 1^2 + 2^2 + ... + 10^2 = 385\n",
    "\n",
    "The square of the sum of the first ten natural numbers is, (1 + 2 + ... + 10)^2 = 552 = 3025\n",
    "\n",
    "Hence the difference between the sum of the squares of the first ten natural numbers and the square of the sum is 3025  -  385 = 2640.\n",
    "\n",
    "Find the difference between the sum of the squares of the first one hundred natural numbers and the square of the sum."
   ]
  },
  {
   "cell_type": "code",
   "execution_count": 6,
   "metadata": {},
   "outputs": [
    {
     "name": "stdout",
     "output_type": "stream",
     "text": [
      "338350 25502500 25164150\n"
     ]
    }
   ],
   "source": [
    "quantidade_avaliada = 100\n",
    "\n",
    "soma_quadrados = 0\n",
    "quadrado_somas = 0\n",
    "\n",
    "for i in range(quantidade_avaliada + 1):\n",
    "    soma_quadrados += i ** 2\n",
    "    quadrado_somas += i\n",
    "\n",
    "diferenca = quadrado_somas ** 2 - soma_quadrados\n",
    "\n",
    "print(soma_quadrados,quadrado_somas ** 2,diferenca)"
   ]
  },
  {
   "cell_type": "markdown",
   "metadata": {},
   "source": [
    "# Problem 5:\n",
    "\n",
    "Find the greatest product of five consecutive digits in the 50-digit number.\n",
    "\n",
    "73167176531330624919225119674426574742355349194934"
   ]
  },
  {
   "cell_type": "code",
   "execution_count": 7,
   "metadata": {},
   "outputs": [
    {
     "name": "stdout",
     "output_type": "stream",
     "text": [
      "9 * 6 * 7 * 4 * 4 = 6048\n"
     ]
    }
   ],
   "source": [
    "numero = '73167176531330624919225119674426574742355349194934' # se fosse por input, seria uma string\n",
    "\n",
    "maior_produto = 0\n",
    "\n",
    "produto = 0\n",
    "\n",
    "for i in range(len(numero) - 4):\n",
    "    produto = int(numero[i]) * int(numero[i+1]) * int(numero[i+2]) * int(numero[i+3]) * int(numero[i+4])\n",
    "    if produto > maior_produto:\n",
    "        maior_produto = produto\n",
    "        numeros_maior_produto = numero[i] + ' * ' + numero[i+1] + ' * ' + numero[i+2] + ' * ' + numero[i+3] + ' * ' + numero[i+4]\n",
    "\n",
    "print(numeros_maior_produto + ' = ' + str(maior_produto))"
   ]
  },
  {
   "cell_type": "markdown",
   "metadata": {},
   "source": [
    "# Problem 6:\n",
    "\n",
    "“Bubble sort” is one of the classic sorting algorithm which is used to explain sorting during various computer and engineering courses\n",
    "\n",
    "In “Bubble sort” algorithm we sort an unsorted array by starting from first element and comparing with adjacent element. If former is greater than later then we swap. And by doing this we get the largest number at the end after first iteration. So in order to sort “n” elements you require “n-1” iteration and almost “n-1” comparison."
   ]
  },
  {
   "cell_type": "code",
   "execution_count": 8,
   "metadata": {},
   "outputs": [
    {
     "name": "stdout",
     "output_type": "stream",
     "text": [
      "  numero:  73167176531330624919225119674426574742355349194934\n",
      "ordenado:  01111111222223333333444444445555566666777777999999\n"
     ]
    }
   ],
   "source": [
    "ordenado = []\n",
    "trocado = True\n",
    "\n",
    "for i in range(len(numero)):\n",
    "    ordenado.append(numero[i])\n",
    "\n",
    "print('  numero: ', numero)\n",
    "\n",
    "while trocado:\n",
    "    # print(trocado)\n",
    "    trocado = False\n",
    "    # print(trocado)\n",
    "    for i in range(len(ordenado) - 1):\n",
    "        # print(i)\n",
    "        if ordenado[i] > ordenado[i + 1]:\n",
    "            # print(ordenado)\n",
    "            temp = ordenado[i]\n",
    "            ordenado[i] = ordenado[i + 1]\n",
    "            ordenado[i + 1] = temp\n",
    "            trocado = True\n",
    "        # else:\n",
    "        #     # print(ordenado)\n",
    "        #     ordenado.append(ordenado[i])\n",
    "\n",
    "print('ordenado: ',''.join(ordenado))"
   ]
  },
  {
   "cell_type": "markdown",
   "metadata": {},
   "source": [
    "# Problem 7:\n",
    "\n",
    "A cylindrical tank with a hemispherical top, as shown in Figure below, is to be constructed that will hold 5.00E05 L when filled. Determine the tank radius R and height H to minimize the tank cost if the cylindrical portion costs $300/m2 of surface area and the hemispherical portion costs $400/m2.\n",
    "\n",
    "![Tanque cilindrico](./imagens/imagem-cilindicar-tank.webp)"
   ]
  },
  {
   "cell_type": "code",
   "execution_count": null,
   "metadata": {},
   "outputs": [],
   "source": [
    "from math import pi\n",
    "\n",
    "# volume_cilindro_m3 = pi * H * R ** 2\n",
    "# volume_hemisferio_m3 = (2/3) * pi * R ** 3\n",
    "# area_superficie_cilindro_m2 = 2 * pi * H * R\n",
    "# area_superficie_hemisferio_m2 = 2 * pi * R ** 2\n",
    "\n",
    "custo_cilindro_reais_m2 = 300\n",
    "cursto_hemisferio_reais_m2 = 400\n",
    "volume_maximo_litros = 5.00e5\n",
    "volume_maximo_m3 = volume_maximo_litros / 1000\n",
    "\n"
   ]
  },
  {
   "cell_type": "markdown",
   "metadata": {},
   "source": [
    "# Problema 8:\n",
    "\n",
    "Encontre a raiz da função f(x) = (x^3) -(9*x) + 3 entre 0 <= x <= 1 , utilizando o algoritmo da bissecção.\n",
    "\n",
    "Este algoritmo consiste em identificar-se dois pontos, tais que f(a) e f(b) tenham sinais opostos, sendo então f(a) * f(b) < 0. A ideia é diminuir o intervalo [a ; b] através de repetidas divisões ao meio, de tal forma que o valor de “a” tenda ao valor de “b”, ou seja, que a função f(x) seja aproximadamente nula dentro de uma certa tolerância."
   ]
  },
  {
   "cell_type": "code",
   "execution_count": null,
   "metadata": {},
   "outputs": [],
   "source": []
  },
  {
   "cell_type": "markdown",
   "metadata": {},
   "source": [
    "# Problem 9: \n",
    "\n",
    "Table 3.5 lists the profits to be made in each of four ventures as a function of the investment in the particular venture. Given a limited amount of money to allocate, the problem is to find the optimal investment allocation.\n",
    "\n",
    "![Profit versus investiment](./imagens/investment.webp)"
   ]
  },
  {
   "cell_type": "code",
   "execution_count": null,
   "metadata": {},
   "outputs": [],
   "source": []
  },
  {
   "cell_type": "markdown",
   "metadata": {},
   "source": [
    "# Problem 10:\n",
    "\n",
    "The knapsack problem is a particular type of integer program with just one constraint. Each item that can go into the knapsack has a size and a benefit. The knapsack has a certain capacity. What should go into the knapsack so as to maximize the total benefit? As an example, suppose we have three items as shown in Table 4, and suppose the capacity of the knapsack is 47.\n",
    "\n",
    "![Knapsack problem](./imagens/knapsack-problem.webp)"
   ]
  },
  {
   "cell_type": "code",
   "execution_count": null,
   "metadata": {},
   "outputs": [],
   "source": []
  },
  {
   "cell_type": "markdown",
   "metadata": {},
   "source": [
    "# Problem 11:\n",
    "\n",
    "Write a program to find the shortest routing and distance between two Alabama cities using the following distance table.\n",
    "\n",
    "You are not allowed to use any other manually computed distances in your program.\n",
    "\n",
    "Alabaster-Birmingham 24 miles\\\n",
    "Alabaster-Montgomery 71 miles\\\n",
    "Birmingham-Huntsville 103 miles\\\n",
    "Birmingham-Tuscaloosa 59 miles\\\n",
    "Demopolis-Mobile 141 miles \\\n",
    "Demopolis-Montgomery 101 miles \\\n",
    "Demopolis-Tuscaloosa 65 miles \\\n",
    "Mobile-Montgomery 169 miles \\\n",
    "Montgomery-Tuscaloosa 134 miles\n",
    "\n",
    "**Example 1:** \\\n",
    "Enter city #1: Demopolis \\\n",
    "Enter city #2: Birmingham \\\n",
    "Shortest routing and distance: \\\n",
    "Demopolis-Tuscaloosa-Birmingham, 124 miles"
   ]
  },
  {
   "cell_type": "code",
   "execution_count": null,
   "metadata": {},
   "outputs": [],
   "source": []
  },
  {
   "cell_type": "markdown",
   "metadata": {},
   "source": [
    "# Problem 12:\n",
    "\n",
    "​A companhia de aviação Benvoa vai comprar aviões a jato de passageiros, para viagens longas, médias e curtas (tipos Al, Am e Ac, respectivamente).\n",
    "\n",
    "Os custos unitários, em milhões de R$ são para os tipos Al, Am e Ac, respectivamente, de 5.0, 3.8 e 2.0.\n",
    "\n",
    "A administração da companhia autorizou a verba máxima de R$ 112.00 milhões para esse efeito.\n",
    "\n",
    "Admite-se que os lucros anuais sejam de 310, 230 e 200 milhões de R$ com cada um dos tipos de avião Al, Am e Ac, respectivamente.\n",
    "\n",
    "Haverá pilotos suficientes para pilotar, no máximo, 30 aviões novos.\n",
    "\n",
    "Se apenas fossem comprados aviões Ac, os serviços de manutenção suportariam 40 aviões novos. Contudo, cada avião Am equivale a 4/3 de um avião Ac e cada avião Al a 5/3 de um avião Ac, no que diz respeito à manutenção.\n",
    "\n",
    "A direção técnica é ainda de opinião que, por cada avião Ac que seja comprado, se comprem também pelo menos um avião Al ou um avião Am. Ou seja, Ac <= (Al + Am).\n",
    "\n",
    "Por outro lado, selecionado um avião Al para comprar, também deverão ser comprados pelo menos 8 aviões Ac ou Am. Ou seja, para cada avião Al comprado, deve-se ter 8 aviões entre curtos e médios, por exemplo, (3 Ac´s + 5 Am´s), ou (6 Am´s + 2 Ac´s).\n",
    "\n",
    "Com estes dados, a gestão da empresa deve decidir a quantidade de aviões de cada tipo a comprar, de modo a maximizar o lucro."
   ]
  },
  {
   "cell_type": "code",
   "execution_count": null,
   "metadata": {},
   "outputs": [],
   "source": []
  },
  {
   "cell_type": "markdown",
   "metadata": {},
   "source": [
    "# Hans Petter Langtangen, “A Primer on Scientific Programming with Python”, 5th Edition, Springer, 2016.\n",
    "\n",
    "![Slicy linspace](./imagens/imagem-2-slicy-linspace.webp)"
   ]
  },
  {
   "cell_type": "code",
   "execution_count": null,
   "metadata": {},
   "outputs": [],
   "source": []
  },
  {
   "cell_type": "markdown",
   "metadata": {},
   "source": [
    "# Plotting multiple curves\n",
    "```\n",
    "import numpy as np\n",
    "import matplotlib.pyplot as plt\n",
    "\n",
    "def f1(t):\n",
    "    var2 = np.exp(-1*(t**2))\n",
    "    return (t**2)*var2\n",
    "# end def f1(t):\n",
    "\n",
    "def f2(t):\n",
    "    var3 = (t**2)*f1(t)\n",
    "    return var3\n",
    "# end def f2(t):\n",
    "    \n",
    "t = np.linspace(0, 3, 51)\n",
    "\n",
    "y1 = f1(t)\n",
    "y2 = f2(t)\n",
    "\n",
    "plt.plot(t, y1, 'r-')\n",
    "plt.plot(t, y2, 'bo')\n",
    "plt.xlabel('t')\n",
    "plt.ylabel('y')\n",
    "plt.legend(['t^2*exp(-t^2)', 't^4*exp(-t^2)'])\n",
    "\n",
    "plt.title('Plotting two curves in the same plot')\n",
    "plt.grid(True)\n",
    "plt.show()\n",
    "```\n",
    "\n",
    "obs: A legenda do gráfico pode ser melhorada utilizando-se o seguinte comando:\n",
    "\n",
    "`plt.legend(['$t^2e^{-t^2}$', '$t^4e^{-t^2}$']).`\n",
    "\n",
    "Essa foi uma contribuição do colega Hugo Salvador <hugoesb@gmail.com>\n",
    "\n",
    "![Two curves in the same plot](./imagens/Figure_1.webp)"
   ]
  },
  {
   "cell_type": "code",
   "execution_count": null,
   "metadata": {},
   "outputs": [],
   "source": []
  },
  {
   "cell_type": "markdown",
   "metadata": {},
   "source": [
    "# Placing several plots in one figure\n",
    "```\n",
    "...\n",
    "...\n",
    "...\n",
    "\n",
    "t3 = t[::4]\n",
    "y3 = f2(t3)\n",
    "\n",
    "plt.figure() # make separate figure\n",
    "###\n",
    "plt.subplot(2, 1, 1)\n",
    "plt.plot(t, y1, 'r-', t, y2, 'bo')\n",
    "plt.xlabel('t')\n",
    "plt.ylabel('y')\n",
    "plt.axis([t[0], t[-1], min(y2)-0.05, max(y2)+0.5])\n",
    "plt.legend(['t^2*exp(-t^2)', 't^4*exp(-t^2)'])\n",
    "plt.grid(True)\n",
    "plt.title('Top figure')\n",
    "#\n",
    "plt.subplot(2, 1, 2)\n",
    "plt.plot(t, y1, 'b-', t3, y3, 'ys')\n",
    "plt.xlabel('t')\n",
    "plt.ylabel('y')\n",
    "plt.axis([0, 4, -0.2, 0.6])\n",
    "plt.legend(['t^2*exp(-t^2)', 't^4*exp(-t^2)'])\n",
    "plt.grid(True)\n",
    "plt.title('Bottom figure')\n",
    "###\n",
    "plt.show()\n",
    "```\n",
    "![Top figure](./imagens/Figure_2.webp)"
   ]
  },
  {
   "cell_type": "code",
   "execution_count": null,
   "metadata": {},
   "outputs": [],
   "source": []
  }
 ],
 "metadata": {
  "kernelspec": {
   "display_name": "Python 3.10.6 64-bit",
   "language": "python",
   "name": "python3"
  },
  "language_info": {
   "codemirror_mode": {
    "name": "ipython",
    "version": 3
   },
   "file_extension": ".py",
   "mimetype": "text/x-python",
   "name": "python",
   "nbconvert_exporter": "python",
   "pygments_lexer": "ipython3",
   "version": "3.10.6"
  },
  "orig_nbformat": 4,
  "vscode": {
   "interpreter": {
    "hash": "916dbcbb3f70747c44a77c7bcd40155683ae19c65e1c03b4aa3499c5328201f1"
   }
  }
 },
 "nbformat": 4,
 "nbformat_minor": 2
}
