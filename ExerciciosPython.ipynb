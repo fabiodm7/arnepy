{
 "cells": [
  {
   "cell_type": "markdown",
   "metadata": {},
   "source": [
    "# Problem 1:\n",
    "\n",
    "If n is an integer greater than 0, n factorial (n!) is the product: n* (n-1) * (n-2) * ( n-3)… *\n",
    "\n",
    "By convention, 0! = 1.\n",
    "\n",
    "You must write a program that allows a user to enter an integer between 1 and 7. Your program must then compute the factorial of the number entered by the user.\n",
    "\n",
    "Your solution MUST actually perform a computation (i.e., you may not simply print “5040” to the screen as a literal value if the input is 7)."
   ]
  },
  {
   "cell_type": "code",
   "execution_count": null,
   "metadata": {},
   "outputs": [],
   "source": []
  },
  {
   "cell_type": "markdown",
   "metadata": {},
   "source": [
    "# Problem 2:\n",
    "\n",
    "The Jones Trucking Company tracks the location of each of its trucks on a grid similar to an (x, y) plane. The home office is at location (0, 0). Read the coordinates of truck A and the coordinates of truck B and determine which is closer to the office.\n",
    "\n",
    "Input: The first line of the data set for this problem is an integer representing the number of collections of data that follow. Each collection contains 4 integers: the x-coordinate and then the y-coordinate of truck A followed by the x-coordinate and then the y-coordinate of truck B."
   ]
  },
  {
   "cell_type": "code",
   "execution_count": null,
   "metadata": {},
   "outputs": [],
   "source": []
  },
  {
   "cell_type": "markdown",
   "metadata": {},
   "source": [
    "# Problem 3:\n",
    "\n",
    "In this problem you must write a program that determines if two circles intersect each other. The input to your program will be the coordinates for the center of each circle, followed by the radius of each circle.\n",
    "\n",
    "The output will state whether the circles overlap, do not overlap, or are tangential (i.e., tangential circles touch each other at just one common point).\n",
    "\n",
    "**Example 1:**\n",
    "\n",
    "Enter the coordinates and radius for circle 1: 10 10 3\n",
    "\n",
    "Enter the coordinates and radius for circle 2: 10 6 1\n",
    "\n",
    "The circles are tangential."
   ]
  },
  {
   "cell_type": "code",
   "execution_count": null,
   "metadata": {},
   "outputs": [],
   "source": []
  },
  {
   "cell_type": "markdown",
   "metadata": {},
   "source": [
    "# Problem 4:\n",
    "\n",
    "The sum of the squares of the first ten natural numbers is, 1^2 + 2^2 + ... + 10^2 = 385\n",
    "\n",
    "The square of the sum of the first ten natural numbers is, (1 + 2 + ... + 10)^2 = 552 = 3025\n",
    "\n",
    "Hence the difference between the sum of the squares of the first ten natural numbers and the square of the sum is 3025  -  385 = 2640.\n",
    "\n",
    "Find the difference between the sum of the squares of the first one hundred natural numbers and the square of the sum."
   ]
  },
  {
   "cell_type": "code",
   "execution_count": null,
   "metadata": {},
   "outputs": [],
   "source": []
  },
  {
   "cell_type": "markdown",
   "metadata": {},
   "source": [
    "# Problem 5:\n",
    "\n",
    "Find the greatest product of five consecutive digits in the 50-digit number.\n",
    "\n",
    "73167176531330624919225119674426574742355349194934"
   ]
  },
  {
   "cell_type": "code",
   "execution_count": null,
   "metadata": {},
   "outputs": [],
   "source": []
  },
  {
   "cell_type": "markdown",
   "metadata": {},
   "source": [
    "# Problem 6:\n",
    "\n",
    "“Bubble sort” is one of the classic sorting algorithm which is used to explain sorting during various computer and engineering courses\n",
    "\n",
    "In “Bubble sort” algorithm we sort an unsorted array by starting from first element and comparing with adjacent element. If former is greater than later then we swap. And by doing this we get the largest number at the end after first iteration. So in order to sort “n” elements you require “n-1” iteration and almost “n-1” comparison."
   ]
  },
  {
   "cell_type": "code",
   "execution_count": null,
   "metadata": {},
   "outputs": [],
   "source": []
  },
  {
   "cell_type": "markdown",
   "metadata": {},
   "source": [
    "# Você é Porco ou Galinha?\n",
    "\n",
    "There’s an old joke in the Scrum community. A chicken and a pig are walking down the road, and the chicken says, “Hey, Pig, I was thinking we should open up a restaurant.”\n",
    "\n",
    "“What should we call it?” asks the pig.\n",
    "\n",
    "“How about ‘Ham and Eggs’?”\n",
    "\n",
    "“No thanks,” says the pig. “I’d be committed, but you’d only be involved!”\n",
    "\n",
    "The idea in Scrum is that the “pigs” are the ones who are totally committed to the project and are responsible for its outcome. The “chickens” are the people who are informed of its progress, the stakeholders. On the wall in the Sentinel room is a pig-shaped bell. When it rings, the people who did what everyone said couldn’t be done know they’re being called. There’s another bell, the doorbell, but that’s for the chickens."
   ]
  },
  {
   "cell_type": "code",
   "execution_count": null,
   "metadata": {},
   "outputs": [],
   "source": []
  },
  {
   "cell_type": "markdown",
   "metadata": {},
   "source": [
    "# Problem 7:\n",
    "\n",
    "A cylindrical tank with a hemispherical top, as shown in Figure below, is to be constructed that will hold 5.00E05 L when filled. Determine the tank radius R and height H to minimize the tank cost if the cylindrical portion costs $300/m2 of surface area and the hemispherical portion costs $400/m2.\n",
    "\n",
    "![Tanque cilindrico](./imagens/imagem-cilindicar-tank.webp)"
   ]
  },
  {
   "cell_type": "code",
   "execution_count": null,
   "metadata": {},
   "outputs": [],
   "source": []
  },
  {
   "cell_type": "markdown",
   "metadata": {},
   "source": [
    "# Problema 8:\n",
    "\n",
    "Encontre a raiz da função f(x) = (x^3) -(9*x) + 3 entre 0 <= x <= 1 , utilizando o algoritmo da bissecção.\n",
    "\n",
    "Este algoritmo consiste em identificar-se dois pontos, tais que f(a) e f(b) tenham sinais opostos, sendo então f(a) * f(b) < 0. A ideia é diminuir o intervalo [a ; b] através de repetidas divisões ao meio, de tal forma que o valor de “a” tenda ao valor de “b”, ou seja, que a função f(x) seja aproximadamente nula dentro de uma certa tolerância."
   ]
  },
  {
   "cell_type": "code",
   "execution_count": null,
   "metadata": {},
   "outputs": [],
   "source": []
  },
  {
   "cell_type": "markdown",
   "metadata": {},
   "source": [
    "# Problem 9: \n",
    "\n",
    "Table 3.5 lists the profits to be made in each of four ventures as a function of the investment in the particular venture. Given a limited amount of money to allocate, the problem is to find the optimal investment allocation.\n",
    "\n",
    "![Profit versus investiment](./imagens/investment.webp)"
   ]
  },
  {
   "cell_type": "code",
   "execution_count": null,
   "metadata": {},
   "outputs": [],
   "source": []
  },
  {
   "cell_type": "markdown",
   "metadata": {},
   "source": [
    "# Problem 10:\n",
    "\n",
    "The knapsack problem is a particular type of integer program with just one constraint. Each item that can go into the knapsack has a size and a benefit. The knapsack has a certain capacity. What should go into the knapsack so as to maximize the total benefit? As an example, suppose we have three items as shown in Table 4, and suppose the capacity of the knapsack is 47.\n",
    "\n",
    "![Knapsack problem](./imagens/knapsack-problem.webp)"
   ]
  },
  {
   "cell_type": "code",
   "execution_count": null,
   "metadata": {},
   "outputs": [],
   "source": []
  },
  {
   "cell_type": "markdown",
   "metadata": {},
   "source": [
    "# Problem 11:\n",
    "\n",
    "Write a program to find the shortest routing and distance between two Alabama cities using the following distance table.\n",
    "\n",
    "You are not allowed to use any other manually computed distances in your program.\n",
    "\n",
    "Alabaster-Birmingham 24 miles\\\n",
    "Alabaster-Montgomery 71 miles\\\n",
    "Birmingham-Huntsville 103 miles\\\n",
    "Birmingham-Tuscaloosa 59 miles\\\n",
    "Demopolis-Mobile 141 miles \\\n",
    "Demopolis-Montgomery 101 miles \\\n",
    "Demopolis-Tuscaloosa 65 miles \\\n",
    "Mobile-Montgomery 169 miles \\\n",
    "Montgomery-Tuscaloosa 134 miles\n",
    "\n",
    "**Example 1:** \\\n",
    "Enter city #1: Demopolis \\\n",
    "Enter city #2: Birmingham \\\n",
    "Shortest routing and distance: \\\n",
    "Demopolis-Tuscaloosa-Birmingham, 124 miles"
   ]
  },
  {
   "cell_type": "code",
   "execution_count": null,
   "metadata": {},
   "outputs": [],
   "source": []
  },
  {
   "cell_type": "markdown",
   "metadata": {},
   "source": [
    "# Problem 12:\n",
    "\n",
    "​A companhia de aviação Benvoa vai comprar aviões a jato de passageiros, para viagens longas, médias e curtas (tipos Al, Am e Ac, respectivamente).\n",
    "\n",
    "Os custos unitários, em milhões de R$ são para os tipos Al, Am e Ac, respectivamente, de 5.0, 3.8 e 2.0.\n",
    "\n",
    "A administração da companhia autorizou a verba máxima de R$ 112.00 milhões para esse efeito.\n",
    "\n",
    "Admite-se que os lucros anuais sejam de 310, 230 e 200 milhões de R$ com cada um dos tipos de avião Al, Am e Ac, respectivamente.\n",
    "\n",
    "Haverá pilotos suficientes para pilotar, no máximo, 30 aviões novos.\n",
    "\n",
    "Se apenas fossem comprados aviões Ac, os serviços de manutenção suportariam 40 aviões novos. Contudo, cada avião Am equivale a 4/3 de um avião Ac e cada avião Al a 5/3 de um avião Ac, no que diz respeito à manutenção.\n",
    "\n",
    "A direção técnica é ainda de opinião que, por cada avião Ac que seja comprado, se comprem também pelo menos um avião Al ou um avião Am. Ou seja, Ac <= (Al + Am).\n",
    "\n",
    "Por outro lado, selecionado um avião Al para comprar, também deverão ser comprados pelo menos 8 aviões Ac ou Am. Ou seja, para cada avião Al comprado, deve-se ter 8 aviões entre curtos e médios, por exemplo, (3 Ac´s + 5 Am´s), ou (6 Am´s + 2 Ac´s).\n",
    "\n",
    "Com estes dados, a gestão da empresa deve decidir a quantidade de aviões de cada tipo a comprar, de modo a maximizar o lucro."
   ]
  },
  {
   "cell_type": "code",
   "execution_count": null,
   "metadata": {},
   "outputs": [],
   "source": []
  },
  {
   "cell_type": "markdown",
   "metadata": {},
   "source": [
    "# Hans Petter Langtangen, “A Primer on Scientific Programming with Python”, 5th Edition, Springer, 2016.\n",
    "\n",
    "![Slicy linspace](./imagens/imagem-2-slicy-linspace.webp)"
   ]
  },
  {
   "cell_type": "code",
   "execution_count": null,
   "metadata": {},
   "outputs": [],
   "source": []
  },
  {
   "cell_type": "markdown",
   "metadata": {},
   "source": [
    "# Plotting multiple curves\n",
    "```\n",
    "import numpy as np\n",
    "import matplotlib.pyplot as plt\n",
    "\n",
    "def f1(t):\n",
    "    var2 = np.exp(-1*(t**2))\n",
    "    return (t**2)*var2\n",
    "# end def f1(t):\n",
    "\n",
    "def f2(t):\n",
    "    var3 = (t**2)*f1(t)\n",
    "    return var3\n",
    "# end def f2(t):\n",
    "    \n",
    "t = np.linspace(0, 3, 51)\n",
    "\n",
    "y1 = f1(t)\n",
    "y2 = f2(t)\n",
    "\n",
    "plt.plot(t, y1, 'r-')\n",
    "plt.plot(t, y2, 'bo')\n",
    "plt.xlabel('t')\n",
    "plt.ylabel('y')\n",
    "plt.legend(['t^2*exp(-t^2)', 't^4*exp(-t^2)'])\n",
    "\n",
    "plt.title('Plotting two curves in the same plot')\n",
    "plt.grid(True)\n",
    "plt.show()\n",
    "```\n",
    "\n",
    "obs: A legenda do gráfico pode ser melhorada utilizando-se o seguinte comando:\n",
    "\n",
    "`plt.legend(['$t^2e^{-t^2}$', '$t^4e^{-t^2}$']).`\n",
    "\n",
    "Essa foi uma contribuição do colega Hugo Salvador <hugoesb@gmail.com>\n",
    "\n",
    "![Two curves in the same plot](./imagens/Figure_1.webp)"
   ]
  },
  {
   "cell_type": "code",
   "execution_count": null,
   "metadata": {},
   "outputs": [],
   "source": []
  },
  {
   "cell_type": "markdown",
   "metadata": {},
   "source": [
    "# Placing several plots in one figure\n",
    "```\n",
    "...\n",
    "...\n",
    "...\n",
    "\n",
    "t3 = t[::4]\n",
    "y3 = f2(t3)\n",
    "\n",
    "plt.figure() # make separate figure\n",
    "###\n",
    "plt.subplot(2, 1, 1)\n",
    "plt.plot(t, y1, 'r-', t, y2, 'bo')\n",
    "plt.xlabel('t')\n",
    "plt.ylabel('y')\n",
    "plt.axis([t[0], t[-1], min(y2)-0.05, max(y2)+0.5])\n",
    "plt.legend(['t^2*exp(-t^2)', 't^4*exp(-t^2)'])\n",
    "plt.grid(True)\n",
    "plt.title('Top figure')\n",
    "#\n",
    "plt.subplot(2, 1, 2)\n",
    "plt.plot(t, y1, 'b-', t3, y3, 'ys')\n",
    "plt.xlabel('t')\n",
    "plt.ylabel('y')\n",
    "plt.axis([0, 4, -0.2, 0.6])\n",
    "plt.legend(['t^2*exp(-t^2)', 't^4*exp(-t^2)'])\n",
    "plt.grid(True)\n",
    "plt.title('Bottom figure')\n",
    "###\n",
    "plt.show()\n",
    "```\n",
    "![Top figure](./imagens/Figure_2.webp)"
   ]
  },
  {
   "cell_type": "code",
   "execution_count": null,
   "metadata": {},
   "outputs": [],
   "source": []
  }
 ],
 "metadata": {
  "kernelspec": {
   "display_name": "Python 3.10.6 64-bit",
   "language": "python",
   "name": "python3"
  },
  "language_info": {
   "name": "python",
   "version": "3.10.6"
  },
  "orig_nbformat": 4,
  "vscode": {
   "interpreter": {
    "hash": "916dbcbb3f70747c44a77c7bcd40155683ae19c65e1c03b4aa3499c5328201f1"
   }
  }
 },
 "nbformat": 4,
 "nbformat_minor": 2
}
