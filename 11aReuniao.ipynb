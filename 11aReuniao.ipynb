{
 "cells": [
  {
   "cell_type": "markdown",
   "metadata": {},
   "source": [
    "# Estatística\n",
    "\n",
    "## Conceitos básicos de probabilidade\n",
    "\n",
    "- Problema do Monty Hall\n",
    "  \n",
    "- Problema do Chevalier de Méré\n",
    "  \n",
    "- Simulação computacional do problema do Chevalier de Méré\n",
    "  \n",
    "- Os seres humanos têm boa \"intuição\" estatística?\n",
    "  \n",
    "- Probabilidade condicional\n",
    "  \n",
    "- Eventos independentes"
   ]
  },
  {
   "cell_type": "markdown",
   "metadata": {},
   "source": [
    "O raciocínio estatístico é difícil.\n",
    "É a última ciência a ser inventada pelo homem.\n",
    "\n"
   ]
  },
  {
   "cell_type": "markdown",
   "metadata": {},
   "source": [
    "### Monty Hall"
   ]
  },
  {
   "cell_type": "code",
   "execution_count": 15,
   "metadata": {},
   "outputs": [],
   "source": [
    "# toda linguagem de programação tem um função para gerar um pseudo número aleatório\n",
    "\n",
    "import random\n"
   ]
  },
  {
   "cell_type": "code",
   "execution_count": 16,
   "metadata": {},
   "outputs": [
    {
     "name": "stdout",
     "output_type": "stream",
     "text": [
      "0.5601346879822283\n",
      "0.7627628052768164\n",
      "0.42555076876228526\n",
      "0.1534418075502897\n",
      "0.3180764959892607\n"
     ]
    }
   ],
   "source": [
    "# como sortear um número aleatório com distribuição uniforme\n",
    "\n",
    "for i in range(5):\n",
    "    var1 = random.random() # geração de números aletórios uniforme de ponto flutuante (número real) entre 0.0 e 1.0\n",
    "    print(var1)\n"
   ]
  },
  {
   "cell_type": "code",
   "execution_count": 17,
   "metadata": {},
   "outputs": [
    {
     "name": "stdout",
     "output_type": "stream",
     "text": [
      "B\n",
      "C\n",
      "C\n",
      "C\n",
      "A\n",
      "B\n",
      "C\n",
      "A\n",
      "B\n",
      "C\n"
     ]
    }
   ],
   "source": [
    "# como escolher uma porta\n",
    "\n",
    "for i in range(10):\n",
    "    porta = random.choice(['A','B','C'])\n",
    "    print(porta)"
   ]
  },
  {
   "cell_type": "code",
   "execution_count": 25,
   "metadata": {},
   "outputs": [
    {
     "name": "stdout",
     "output_type": "stream",
     "text": [
      "Se não trocar portas:  33.3312\n",
      "Se trocar portas:  66.66879999999999\n"
     ]
    }
   ],
   "source": [
    "# simulação sem a troca de portas\n",
    "\n",
    "jogadas = 1000000\n",
    "acertos = 0\n",
    "\n",
    "for i in range(jogadas):\n",
    "    porta = random.choice(['A','B','C'])\n",
    "    porta_escolhida = 'A'\n",
    "\n",
    "    if porta == porta_escolhida:\n",
    "        acertos += 1\n",
    "\n",
    "print('Se não trocar portas: ', acertos / jogadas * 100)\n",
    "\n",
    "print('Se trocar portas: ', (1 - acertos / jogadas) * 100)"
   ]
  },
  {
   "cell_type": "markdown",
   "metadata": {},
   "source": [
    "### Chevalier de Méré"
   ]
  },
  {
   "cell_type": "code",
   "execution_count": null,
   "metadata": {},
   "outputs": [],
   "source": [
    "# O jogo parou assim: H,H,T,_,_\n",
    "\n",
    "# Possibilidades:\n",
    "# H -> H\n",
    "#   -> T\n",
    "\n",
    "# T -> H\n",
    "#   -> T\n",
    "\n",
    "# Eventos estocásticos independentes:\n",
    "\n",
    "# 4º|5º -> (P4º) * (P5º)\n",
    "#  H|H  -> 0.5 * 0.5 = 0.25 -> Blaise\n",
    "#  H|T  -> 0.5 * 0.5 = 0.25 -> Blaise\n",
    "#  T|H  -> 0.5 * 0.5 = 0.25 -> Blaise\n",
    "#  T|T  -> 0.5 * 0.5 = 0.25 -> Fermat\n",
    "\n",
    "# Resultado: 75% Blaise, 25% Fermat"
   ]
  }
 ],
 "metadata": {
  "kernelspec": {
   "display_name": "Python 3.10.6 64-bit",
   "language": "python",
   "name": "python3"
  },
  "language_info": {
   "codemirror_mode": {
    "name": "ipython",
    "version": 3
   },
   "file_extension": ".py",
   "mimetype": "text/x-python",
   "name": "python",
   "nbconvert_exporter": "python",
   "pygments_lexer": "ipython3",
   "version": "3.10.6"
  },
  "orig_nbformat": 4,
  "vscode": {
   "interpreter": {
    "hash": "916dbcbb3f70747c44a77c7bcd40155683ae19c65e1c03b4aa3499c5328201f1"
   }
  }
 },
 "nbformat": 4,
 "nbformat_minor": 2
}
