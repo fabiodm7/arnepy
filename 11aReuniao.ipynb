{
 "cells": [
  {
   "cell_type": "markdown",
   "metadata": {},
   "source": [
    "# Estatística\n",
    "\n",
    "## Conceitos básicos de probabilidade\n",
    "\n",
    "- Problema do Monty Hall\n",
    "  \n",
    "- Problema do Chevalier de Méré\n",
    "  \n",
    "- Simulação computacional do problema do Chevalier de Méré\n",
    "  \n",
    "- Os seres humanos têm boa \"intuição\" estatística?\n",
    "  \n",
    "- Probabilidade condicional\n",
    "  \n",
    "- Eventos independentes"
   ]
  },
  {
   "cell_type": "markdown",
   "metadata": {},
   "source": [
    "O raciocínio estatístico é difícil.\n",
    "É a última ciência a ser inventada pelo homem.\n",
    "\n"
   ]
  },
  {
   "cell_type": "markdown",
   "metadata": {},
   "source": [
    "### Monty Hall"
   ]
  },
  {
   "cell_type": "code",
   "execution_count": null,
   "metadata": {},
   "outputs": [],
   "source": []
  }
 ],
 "metadata": {
  "kernelspec": {
   "display_name": "Python 3.10.6 64-bit",
   "language": "python",
   "name": "python3"
  },
  "language_info": {
   "name": "python",
   "version": "3.10.6"
  },
  "orig_nbformat": 4,
  "vscode": {
   "interpreter": {
    "hash": "916dbcbb3f70747c44a77c7bcd40155683ae19c65e1c03b4aa3499c5328201f1"
   }
  }
 },
 "nbformat": 4,
 "nbformat_minor": 2
}
