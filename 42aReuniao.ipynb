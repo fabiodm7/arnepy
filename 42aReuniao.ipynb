{
 "cells": [
  {
   "cell_type": "code",
   "execution_count": 1,
   "metadata": {},
   "outputs": [],
   "source": [
    "# PLD (R$/MWh) 12.00 27.00 42.00 57.00 72.00 87.00 102.00 117.00 132.00 147.00\n",
    "#           % 13.96 9.24 9.33 9.36 7.32 8.38 6.66 5.46 5.70 3.49\n",
    "# PLD (R$/MWh) 162.00 177.00 192.00 207.00 222.00 237.00 252.00 267.00 282.00 297.00\n",
    "#            % 3.51 2.31 2.75 3.03 2.90 1.10 1.45 1.42 0.59 0.06\n",
    "# PLD (R$/MWh) 312.00 327.00 342.00 357.00 372.00 387.00 402.00 432.00 447.00 462.00\n",
    "#             % 0.24 0.52 0.10 0.38 0.04 0.06 0.02 0.01 0.01 0.02\n",
    "# PLD (R$/MWh) 492.00 507.00 537.00 612.00 672.00 717.00\n",
    "#             % 0.03 0.01 0.01 0.02 0.03 0.48\n",
    "\n",
    "prob_pld = [\n",
    "    [12.00,13.96],\n",
    "    [27.00, 9.24],\n",
    "    [42.00,9.33],\n",
    "    [57.00,9.36],\n",
    "    [72.00,7.32],\n",
    "    [87.00,9.38],\n",
    "    [102.00,6.66],\n",
    "    [117.00,5.46],\n",
    "    [132.00,5.70],\n",
    "    [174.00,3.49],\n",
    "    [162.00,3.51],\n",
    "    [177.00,2.31],\n",
    "    [192.00,2.75],\n",
    "    [207.00,3.03],\n",
    "    [222.00,2.90],\n",
    "    [237.00,1.10],\n",
    "    [252.00,1.45],\n",
    "    [267.00,1.42],\n",
    "    [282.00,0.59],\n",
    "    [297.00,0.06],\n",
    "    [312.00,0.24],\n",
    "    [327.00,0.52],\n",
    "    [342.00,0.10],\n",
    "    [357.00,0.38],\n",
    "    [372.00,0.04],\n",
    "    [387.00,0.06],\n",
    "    [402.00,0.02],\n",
    "    [432.00,0.01],\n",
    "    [447.00,0.01],\n",
    "    [462.00,0.02],\n",
    "    [492.00,0.03],\n",
    "    [507.00,0.01],\n",
    "    [537.00,0.01],\n",
    "    [612.00,0.02],\n",
    "    [672.00,0.03],\n",
    "    [717.00,0.048]\n",
    "]"
   ]
  },
  {
   "cell_type": "code",
   "execution_count": 2,
   "metadata": {},
   "outputs": [],
   "source": [
    "import numpy as np\n",
    "\n",
    "prob_pld = np.array(prob_pld)\n",
    "\n",
    "soma = np.sum(prob_pld[:,1])\n",
    "\n",
    "prob_pld[:,1] = prob_pld[:,1]/soma\n",
    "\n",
    "len_pld = len(prob_pld)\n",
    "\n",
    "cenar_SMC = 5000\n",
    "\n",
    "pld = np.random.choice(prob_pld[:,0], cenar_SMC, p=(prob_pld[:,1]))\n"
   ]
  },
  {
   "cell_type": "code",
   "execution_count": null,
   "metadata": {},
   "outputs": [],
   "source": []
  }
 ],
 "metadata": {
  "kernelspec": {
   "display_name": "Python 3.10.6 64-bit",
   "language": "python",
   "name": "python3"
  },
  "language_info": {
   "codemirror_mode": {
    "name": "ipython",
    "version": 3
   },
   "file_extension": ".py",
   "mimetype": "text/x-python",
   "name": "python",
   "nbconvert_exporter": "python",
   "pygments_lexer": "ipython3",
   "version": "3.10.9 (main, Dec 08 2022, 14:49:06) [GCC]"
  },
  "orig_nbformat": 4,
  "vscode": {
   "interpreter": {
    "hash": "916dbcbb3f70747c44a77c7bcd40155683ae19c65e1c03b4aa3499c5328201f1"
   }
  }
 },
 "nbformat": 4,
 "nbformat_minor": 2
}
