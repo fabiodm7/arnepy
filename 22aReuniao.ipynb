{
 "cells": [
  {
   "cell_type": "markdown",
   "metadata": {},
   "source": [
    "# Problema Cativo x Livre\n",
    "\n",
    "A unidade consumidora de energia elétrica em questão é um consumidor cativo e está na modalidade tarifária horária verde, pertencente ao subgrupo A4.\n",
    "\n",
    "Faça a Análise de Viabilidade Cativo x Livre para essa Unidade Consumidora.\n",
    "\n",
    "Os dados de consumo para um ano típico, em base mensal, estão disponíveis na Planilha Excel abaixo.\n",
    "\n",
    "[Planilha de apoio](./documentos/planilhaAlunoJonatas.xlsx)\n",
    "\n",
    "Agora compare as alternativas acima com a alternativa de colocar um sistema fotovoltaico na unidade consumidora e ela continuar no ACR (Ambiente de Contratação Regulada).\n",
    "\n",
    "Depois compare com a alternativa da unidade consumidora ter o sistema de geração fotovoltaica e migrar para o ACL tornando-se Autoprodutor.\n",
    "\n",
    "Depois de tudo, compare as alternativas de negócios acima com a alternativa da unidade consumidora ter o sistema de geração fotovoltaica, migrar para o ACL tornando-se Autoprodutor e possuir um BESS (Battery Energy Storage System) de Íon-Lítio.\n",
    "\n",
    "Qual das 5 alternativas é a melhor para essa Unidade Consumidora?\n",
    "\n",
    "Para relembrar as 5 alternativas segue um resumo:\n",
    "1. Continuar no ACR (pode mudar de tarifa horosazonal);\n",
    "2. Ir para o ACL;\n",
    "3. Continuar no ACR e instalar Sistema Fotovoltaico;\n",
    "4. Ir para o ACL com Sistema Fotovoltaico e tornar-se Autoprodutor (com geração local ou remota);\n",
    "5. Alternativa 4 + BESS de Íon-Lítio.\n",
    "\n",
    "Obs: Lembrar que o Consumidor Livre pode escolher entre pagar as TUSD´s pela tarifa horosazonal Azul ou Verde. Se o Consumidor Livre escolher a tarifa horosazonal Azul ele vai ter que contratar uma demanda na ponta e contratar uma demanda fora ponta.\n",
    "\n",
    "Quando esse consumidor se tornar livre e comprar energia incentivada 50% ou 100%, o desconto vai incidir conforme as regras da Tabela 3 da Resolução Homologatória das Tarifas da Distribuidora.\n",
    "\n",
    "![Benefícios tarifários - Percentuais de desconto](./imagens/beneficiosTarifarios.png)\n",
    "\n",
    "Pelas regras atuais (ano 2022) um Consumidor Cativo pode se tornar Livre caso a demanda contratada ponta ou a demanda contratada fora ponta seja > 500 kW."
   ]
  },
  {
   "cell_type": "code",
   "execution_count": 1,
   "metadata": {},
   "outputs": [],
   "source": [
    "import pandas as pd\n",
    "import numpy as np\n",
    "import matplotlib.pyplot as plt\n"
   ]
  },
  {
   "cell_type": "code",
   "execution_count": 16,
   "metadata": {},
   "outputs": [
    {
     "data": {
      "text/html": [
       "<div>\n",
       "<style scoped>\n",
       "    .dataframe tbody tr th:only-of-type {\n",
       "        vertical-align: middle;\n",
       "    }\n",
       "\n",
       "    .dataframe tbody tr th {\n",
       "        vertical-align: top;\n",
       "    }\n",
       "\n",
       "    .dataframe thead th {\n",
       "        text-align: right;\n",
       "    }\n",
       "</style>\n",
       "<table border=\"1\" class=\"dataframe\">\n",
       "  <thead>\n",
       "    <tr style=\"text-align: right;\">\n",
       "      <th></th>\n",
       "      <th>Unnamed: 0</th>\n",
       "      <th>CONSUMO NA PONTA (kWh)</th>\n",
       "      <th>CONSUMO FORA DA PONTA (kWh)</th>\n",
       "      <th>DEMANDA NA PONTA (kW)</th>\n",
       "      <th>DEMANDA FORA DA PONTA (kW)</th>\n",
       "      <th>Demanda contratada (kW)</th>\n",
       "    </tr>\n",
       "  </thead>\n",
       "  <tbody>\n",
       "    <tr>\n",
       "      <th>0</th>\n",
       "      <td>JAN</td>\n",
       "      <td>85688.40</td>\n",
       "      <td>862848.0</td>\n",
       "      <td>2039.52</td>\n",
       "      <td>2788.80</td>\n",
       "      <td>2800.0</td>\n",
       "    </tr>\n",
       "    <tr>\n",
       "      <th>1</th>\n",
       "      <td>FEV</td>\n",
       "      <td>99822.24</td>\n",
       "      <td>967260.0</td>\n",
       "      <td>2533.44</td>\n",
       "      <td>3487.68</td>\n",
       "      <td>2800.0</td>\n",
       "    </tr>\n",
       "    <tr>\n",
       "      <th>2</th>\n",
       "      <td>MAR</td>\n",
       "      <td>120030.96</td>\n",
       "      <td>1223544.0</td>\n",
       "      <td>2862.72</td>\n",
       "      <td>3917.76</td>\n",
       "      <td>2800.0</td>\n",
       "    </tr>\n",
       "    <tr>\n",
       "      <th>3</th>\n",
       "      <td>ABR</td>\n",
       "      <td>128016.84</td>\n",
       "      <td>1190448.0</td>\n",
       "      <td>2724.96</td>\n",
       "      <td>3837.12</td>\n",
       "      <td>2800.0</td>\n",
       "    </tr>\n",
       "    <tr>\n",
       "      <th>4</th>\n",
       "      <td>MAI</td>\n",
       "      <td>125018.04</td>\n",
       "      <td>1227408.0</td>\n",
       "      <td>2506.56</td>\n",
       "      <td>3444.00</td>\n",
       "      <td>2800.0</td>\n",
       "    </tr>\n",
       "    <tr>\n",
       "      <th>5</th>\n",
       "      <td>JUN</td>\n",
       "      <td>103962.31</td>\n",
       "      <td>982487.1</td>\n",
       "      <td>2446.08</td>\n",
       "      <td>3299.52</td>\n",
       "      <td>2800.0</td>\n",
       "    </tr>\n",
       "    <tr>\n",
       "      <th>6</th>\n",
       "      <td>JUL</td>\n",
       "      <td>95302.20</td>\n",
       "      <td>897456.0</td>\n",
       "      <td>2106.72</td>\n",
       "      <td>2741.76</td>\n",
       "      <td>2800.0</td>\n",
       "    </tr>\n",
       "    <tr>\n",
       "      <th>7</th>\n",
       "      <td>AGO</td>\n",
       "      <td>96771.36</td>\n",
       "      <td>942984.0</td>\n",
       "      <td>1995.84</td>\n",
       "      <td>2718.24</td>\n",
       "      <td>2800.0</td>\n",
       "    </tr>\n",
       "    <tr>\n",
       "      <th>8</th>\n",
       "      <td>SET</td>\n",
       "      <td>99086.40</td>\n",
       "      <td>885780.0</td>\n",
       "      <td>2126.88</td>\n",
       "      <td>2741.76</td>\n",
       "      <td>2800.0</td>\n",
       "    </tr>\n",
       "    <tr>\n",
       "      <th>9</th>\n",
       "      <td>OUT</td>\n",
       "      <td>117633.60</td>\n",
       "      <td>1067556.0</td>\n",
       "      <td>2231.04</td>\n",
       "      <td>3050.88</td>\n",
       "      <td>2800.0</td>\n",
       "    </tr>\n",
       "    <tr>\n",
       "      <th>10</th>\n",
       "      <td>NOV</td>\n",
       "      <td>102412.80</td>\n",
       "      <td>1066548.0</td>\n",
       "      <td>2308.32</td>\n",
       "      <td>3161.76</td>\n",
       "      <td>2800.0</td>\n",
       "    </tr>\n",
       "    <tr>\n",
       "      <th>11</th>\n",
       "      <td>DEZ</td>\n",
       "      <td>106819.44</td>\n",
       "      <td>1024968.0</td>\n",
       "      <td>2849.28</td>\n",
       "      <td>3625.44</td>\n",
       "      <td>2800.0</td>\n",
       "    </tr>\n",
       "  </tbody>\n",
       "</table>\n",
       "</div>"
      ],
      "text/plain": [
       "   Unnamed: 0  CONSUMO NA PONTA (kWh)  CONSUMO FORA DA PONTA (kWh)  \\\n",
       "0         JAN                85688.40                     862848.0   \n",
       "1         FEV                99822.24                     967260.0   \n",
       "2         MAR               120030.96                    1223544.0   \n",
       "3         ABR               128016.84                    1190448.0   \n",
       "4         MAI               125018.04                    1227408.0   \n",
       "5         JUN               103962.31                     982487.1   \n",
       "6         JUL                95302.20                     897456.0   \n",
       "7         AGO                96771.36                     942984.0   \n",
       "8         SET                99086.40                     885780.0   \n",
       "9         OUT               117633.60                    1067556.0   \n",
       "10        NOV               102412.80                    1066548.0   \n",
       "11        DEZ               106819.44                    1024968.0   \n",
       "\n",
       "    DEMANDA NA PONTA (kW)  DEMANDA FORA DA PONTA (kW)  Demanda contratada (kW)  \n",
       "0                 2039.52                     2788.80                   2800.0  \n",
       "1                 2533.44                     3487.68                   2800.0  \n",
       "2                 2862.72                     3917.76                   2800.0  \n",
       "3                 2724.96                     3837.12                   2800.0  \n",
       "4                 2506.56                     3444.00                   2800.0  \n",
       "5                 2446.08                     3299.52                   2800.0  \n",
       "6                 2106.72                     2741.76                   2800.0  \n",
       "7                 1995.84                     2718.24                   2800.0  \n",
       "8                 2126.88                     2741.76                   2800.0  \n",
       "9                 2231.04                     3050.88                   2800.0  \n",
       "10                2308.32                     3161.76                   2800.0  \n",
       "11                2849.28                     3625.44                   2800.0  "
      ]
     },
     "execution_count": 16,
     "metadata": {},
     "output_type": "execute_result"
    }
   ],
   "source": [
    "\n",
    "autoprod_data = pd.read_excel('./documentos/planilhaAlunoJonatas.xlsx',header=1)\n",
    "\n",
    "autoprod_data['Demanda contratada (kW)'].fillna(method='ffill', inplace=True)\n",
    "\n",
    "autoprod_data.head(12)\n",
    "# autoprod_data.dtypes"
   ]
  },
  {
   "cell_type": "code",
   "execution_count": 38,
   "metadata": {},
   "outputs": [
    {
     "data": {
      "image/png": "[encoded data removed]",
      "text/plain": [
       "<Figure size 640x480 with 1 Axes>"
      ]
     },
     "metadata": {},
     "output_type": "display_data"
    }
   ],
   "source": [
    "meses = autoprod_data['Unnamed: 0'].to_numpy()\n",
    "consumo_ponta_kwh = autoprod_data['CONSUMO NA PONTA (kWh)'].to_numpy()\n",
    "consumo_foraponta_kwh = autoprod_data['CONSUMO FORA DA PONTA (kWh)'].to_numpy()\n",
    "demanda_ponta_kw = autoprod_data['DEMANDA NA PONTA (kW)'].to_numpy()\n",
    "demanda_foraponta_kw = autoprod_data['DEMANDA FORA DA PONTA (kW)'].to_numpy() \n",
    "demanda_contratada_kw = autoprod_data['Demanda contratada (kW)'].to_numpy()\n",
    "\n",
    "consumo_medio_mwh = (consumo_ponta_kwh + consumo_foraponta_kwh) / 1000\n",
    "\n",
    "plt.plot(consumo_medio_mwh)\n",
    "plt.show()\n"
   ]
  },
  {
   "cell_type": "code",
   "execution_count": 11,
   "metadata": {},
   "outputs": [],
   "source": [
    "# Tarifas da CELPE\n",
    "\n",
    "# Resolução homologatória Aneel No. 3055, 12 de Julho de 2022\n",
    "# https://www.in.gov.br/web/dou/-/resolucao-homologatoria-n-3.055-de-12-de-julho-de-2022-414778919\n",
    "# https://www2.aneel.gov.br/cedoc/reh20223055ti.pdf\n",
    "\n",
    "# Tarifas de aplicação TUSD e TE\n",
    "# TUSD: Tarifa de Uso do Sistema de Distribuição\n",
    "# TE: Tarifa de Energia\n",
    "\n",
    "verde_tusd_rs_kw = 19.6\n",
    "verde_tusd_ponta_rs_mwh = 1315.06\n",
    "verde_tusd_foraponta_rs_mwh = 83.6\n",
    "verde_te_ponta_rs_mwh = 493.04\n",
    "verde_te_foraponta_rs_mwh = 305.16\n",
    "\n",
    "azul_tusd_ponta_rs_kw = 50.74\n",
    "azul_tusd_foraponta_rs_kw = 19.6\n",
    "azul_tusd_ponta_rs_mwh = 83.6\n",
    "azul_tusd_foraponta_rs_mwh = 83.6\n",
    "azul_te_ponta_rs_mwh = 493.04\n",
    "azul_te_foraponta_rs_mwh = 305.16"
   ]
  },
  {
   "cell_type": "code",
   "execution_count": 35,
   "metadata": {},
   "outputs": [],
   "source": [
    "# Cobrança por ultrapassagem\n",
    "\n",
    "# Resolução normativa Aneel Np. 1000, 7 de Novembro de 2021\n",
    "# https://www2.aneel.gov.br/cedoc/atren20211000.pdf\n",
    "# https://www2.aneel.gov.br/cedoc/ren20211000.pdf\n",
    "\n",
    "# Capítulo X - Seção VII\n",
    "\n"
   ]
  },
  {
   "cell_type": "code",
   "execution_count": 43,
   "metadata": {},
   "outputs": [
    {
     "name": "stdout",
     "output_type": "stream",
     "text": [
      "4396826.4168896\n"
     ]
    }
   ],
   "source": [
    "# CONTA ANUAL NA TARIFA VERDE\n",
    "\n",
    "demanda_contratada_verde = 3700 # np.average(demanda_contratada_kw)\n",
    "\n",
    "# Cálculo do custo consumo total da tarifa de energia\n",
    "\n",
    "custo_consumo_ponta = (consumo_ponta_kwh / 1000) * verde_te_ponta_rs_mwh\n",
    "\n",
    "custo_consumo_foraponta = (consumo_foraponta_kwh / 1000) * verde_te_foraponta_rs_mwh\n",
    "\n",
    "custo_consumo_total = np.sum(custo_consumo_ponta + custo_consumo_foraponta)\n",
    "\n",
    "print(custo_consumo_total)"
   ]
  },
  {
   "cell_type": "code",
   "execution_count": 44,
   "metadata": {},
   "outputs": [
    {
     "name": "stdout",
     "output_type": "stream",
     "text": [
      "-1284.1920000000086\n"
     ]
    }
   ],
   "source": [
    "# Cálculo do custo ultrapassagem de demanda\n",
    "\n",
    "# demanda_maior = np.zeros(len(meses))\n",
    "\n",
    "# for i in range(len(meses)):\n",
    "#     if demanda_fora_ponta_kw[i] > demanda_ponta_kw[i]:\n",
    "#         demanda_maior[i] = demanda_fora_ponta_kw[i]\n",
    "#     else:\n",
    "#         demanda_maior[i] = demanda_ponta_kw[i]\n",
    "\n",
    "# print('demanda_maior1: ', demanda_maior)\n",
    "\n",
    "demanda_maior = np.where(demanda_foraponta_kw > demanda_ponta_kw, demanda_foraponta_kw, demanda_ponta_kw)\n",
    "\n",
    "# print('demanda_maior2: ', demanda_maior)\n",
    "\n",
    "ultrapassagem_demanda_verde = (1.05 * demanda_contratada_verde) - demanda_maior\n",
    "\n",
    "custo_ultrapassagem_verde = np.sum(ultrapassagem_demanda_verde * 2 * verde_tusd_rs_kw, where = ultrapassagem_demanda_verde < 0)\n",
    "\n",
    "print(custo_ultrapassagem_verde)"
   ]
  },
  {
   "cell_type": "code",
   "execution_count": 45,
   "metadata": {},
   "outputs": [
    {
     "name": "stdout",
     "output_type": "stream",
     "text": [
      "custo_ultrapassagem_verde: -1,284.19\n",
      "custo_consumo_total: 4,396,826.42\n",
      "custo_demanda_contratada_verde: 72,520.00\n",
      "custo_tusd_total_rs_mwh: 2,715,583.67\n",
      "custo_total_verde: 7,186,214.28\n"
     ]
    }
   ],
   "source": [
    "# Calculo do custo da demanda contratada na ponta e fora ponta\n",
    "\n",
    "custo_demanda_contratada_verde = demanda_contratada_verde * verde_tusd_rs_kw\n",
    "\n",
    "custo_tusd_ponta_rs_mwh = (consumo_ponta_kwh / 1000) * verde_tusd_ponta_rs_mwh\n",
    "\n",
    "custo_tusd_foraponta_rs_mwh = (consumo_foraponta_kwh / 1000) * verde_tusd_foraponta_rs_mwh\n",
    "\n",
    "custo_tusd_total_rs_mwh = np.sum(custo_tusd_ponta_rs_mwh + custo_tusd_foraponta_rs_mwh)\n",
    "\n",
    "custo_total_verde = (custo_ultrapassagem_verde * -1) + custo_consumo_total + custo_demanda_contratada_verde + custo_tusd_total_rs_mwh\n",
    "\n",
    "print('custo_ultrapassagem_verde: {:,.2f}'.format(custo_ultrapassagem_verde))\n",
    "print('custo_consumo_total: {:,.2f}'.format(custo_consumo_total))\n",
    "print('custo_demanda_contratada_verde: {:,.2f}'.format(custo_demanda_contratada_verde))\n",
    "print('custo_tusd_total_rs_mwh: {:,.2f}'.format(custo_tusd_total_rs_mwh))\n",
    "print('custo_total_verde: {:,.2f}'.format(custo_total_verde))"
   ]
  },
  {
   "cell_type": "code",
   "execution_count": 46,
   "metadata": {},
   "outputs": [
    {
     "name": "stdout",
     "output_type": "stream",
     "text": [
      "4396826.4168896\n"
     ]
    }
   ],
   "source": [
    "# CONTA ANUAL NA TARIFA AZUL\n",
    "\n",
    "demanda_contratada_ponta_azul = 3700 # np.average(demanda_contratada_kw)\n",
    "demanda_contratada_foraponta_azul = 3700 # np.average(demanda_contratada_kw)\n",
    "\n",
    "\n",
    "# Cálculo do custo consumo total da tarifa de energia\n",
    "\n",
    "custo_consumo_ponta = (consumo_ponta_kwh / 1000) * azul_te_ponta_rs_mwh\n",
    "\n",
    "custo_consumo_foraponta = (consumo_foraponta_kwh / 1000) * azul_te_foraponta_rs_mwh\n",
    "\n",
    "custo_consumo_total = np.sum(custo_consumo_ponta + custo_consumo_foraponta)\n",
    "\n",
    "print(custo_consumo_total)"
   ]
  },
  {
   "cell_type": "code",
   "execution_count": 47,
   "metadata": {},
   "outputs": [
    {
     "name": "stdout",
     "output_type": "stream",
     "text": [
      "-1284.1920000000086\n"
     ]
    }
   ],
   "source": [
    "# Cálculo do custo ultrapassagem de demanda\n",
    "\n",
    "# demanda_maior = np.where(demanda_fora_ponta_kw > demanda_ponta_kw, demanda_fora_ponta_kw, demanda_ponta_kw)\n",
    "\n",
    "# print('demanda_maior2: ', demanda_maior)\n",
    "\n",
    "ultrapassagem_demanda_ponta = (1.05 * demanda_contratada_ponta_azul) - demanda_ponta_kw\n",
    "\n",
    "custo_ultrapassagem_demanda_ponta = np.sum(ultrapassagem_demanda_ponta * 2 * azul_tusd_ponta_rs_kw, where = ultrapassagem_demanda_ponta < 0)\n",
    "\n",
    "ultrapassagem_demanda_foraponta = (1.05 * demanda_contratada_foraponta_azul) - demanda_foraponta_kw\n",
    "\n",
    "custo_ultrapassagem_demanda_foraponta = np.sum(ultrapassagem_demanda_foraponta * 2 * azul_tusd_foraponta_rs_kw, where = ultrapassagem_demanda_foraponta < 0)\n",
    "\n",
    "custo_ultrapassagem_azul = custo_ultrapassagem_demanda_ponta + custo_ultrapassagem_demanda_foraponta\n",
    "\n",
    "print(custo_ultrapassagem_azul)"
   ]
  },
  {
   "cell_type": "code",
   "execution_count": 48,
   "metadata": {},
   "outputs": [
    {
     "name": "stdout",
     "output_type": "stream",
     "text": [
      "custo_ultrapassagem_azul: -1,284.19\n",
      "custo_consumo_total: 4,396,826.42\n",
      "custo_demanda_contratada_azul: 260,258.00\n",
      "custo_tusd_total_rs_mwh: 1,138,619.60\n",
      "custo_total_azul: 5,796,988.21\n"
     ]
    }
   ],
   "source": [
    "# Calculo do custo da demanda contratada na ponta e fora ponta\n",
    "\n",
    "custo_demanda_contratada_ponta = demanda_contratada_ponta_azul * azul_tusd_ponta_rs_kw\n",
    "\n",
    "custo_demanda_contratada_foraponta = demanda_contratada_foraponta_azul * azul_tusd_foraponta_rs_kw\n",
    "\n",
    "custo_demanda_contratada_azul = custo_demanda_contratada_ponta + custo_demanda_contratada_foraponta\n",
    "\n",
    "custo_tusd_ponta_rs_mwh = (consumo_ponta_kwh / 1000) * azul_tusd_ponta_rs_mwh\n",
    "\n",
    "custo_tusd_foraponta_rs_mwh = (consumo_foraponta_kwh / 1000) * azul_tusd_foraponta_rs_mwh\n",
    "\n",
    "custo_tusd_total_rs_mwh = np.sum(custo_tusd_ponta_rs_mwh + custo_tusd_foraponta_rs_mwh)\n",
    "\n",
    "custo_total_azul = (custo_ultrapassagem_azul * -1) + custo_consumo_total + custo_demanda_contratada_azul + custo_tusd_total_rs_mwh\n",
    "\n",
    "print('custo_ultrapassagem_azul: {:,.2f}'.format(custo_ultrapassagem_azul))\n",
    "print('custo_consumo_total: {:,.2f}'.format(custo_consumo_total))\n",
    "print('custo_demanda_contratada_azul: {:,.2f}'.format(custo_demanda_contratada_azul))\n",
    "print('custo_tusd_total_rs_mwh: {:,.2f}'.format(custo_tusd_total_rs_mwh))\n",
    "print('custo_total_azul: {:,.2f}'.format(custo_total_azul))"
   ]
  },
  {
   "cell_type": "code",
   "execution_count": null,
   "metadata": {},
   "outputs": [],
   "source": []
  }
 ],
 "metadata": {
  "kernelspec": {
   "display_name": "Python 3.10.6 64-bit",
   "language": "python",
   "name": "python3"
  },
  "language_info": {
   "codemirror_mode": {
    "name": "ipython",
    "version": 3
   },
   "file_extension": ".py",
   "mimetype": "text/x-python",
   "name": "python",
   "nbconvert_exporter": "python",
   "pygments_lexer": "ipython3",
   "version": "3.10.6 (main, Nov 14 2022, 16:10:14) [GCC 11.3.0]"
  },
  "orig_nbformat": 4,
  "vscode": {
   "interpreter": {
    "hash": "916dbcbb3f70747c44a77c7bcd40155683ae19c65e1c03b4aa3499c5328201f1"
   }
  }
 },
 "nbformat": 4,
 "nbformat_minor": 2
}
