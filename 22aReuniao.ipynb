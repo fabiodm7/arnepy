{
 "cells": [
  {
   "cell_type": "markdown",
   "metadata": {},
   "source": [
    "# Problema Cativo x Livre\n",
    "\n",
    "A unidade consumidora de energia elétrica em questão é um consumidor cativo e está na modalidade tarifária horária verde, pertencente ao subgrupo A4.\n",
    "\n",
    "Faça a Análise de Viabilidade Cativo x Livre para essa Unidade Consumidora.\n",
    "\n",
    "Os dados de consumo para um ano típico, em base mensal, estão disponíveis na Planilha Excel abaixo.\n",
    "\n",
    "[Planilha de apoio](./documentos/planilhaAlunoJonatas.xlsx)\n",
    "\n",
    "Agora compare as alternativas acima com a alternativa de colocar um sistema fotovoltaico na unidade consumidora e ela continuar no ACR (Ambiente de Contratação Regulada).\n",
    "\n",
    "Depois compare com a alternativa da unidade consumidora ter o sistema de geração fotovoltaica e migrar para o ACL tornando-se Autoprodutor.\n",
    "\n",
    "Depois de tudo, compare as alternativas de negócios acima com a alternativa da unidade consumidora ter o sistema de geração fotovoltaica, migrar para o ACL tornando-se Autoprodutor e possuir um BESS (Battery Energy Storage System) de Íon-Lítio.\n",
    "\n",
    "Qual das 5 alternativas é a melhor para essa Unidade Consumidora?\n",
    "\n",
    "Para relembrar as 5 alternativas segue um resumo:\n",
    "1. Continuar no ACR (pode mudar de tarifa horosazonal);\n",
    "2. Ir para o ACL;\n",
    "3. Continuar no ACR e instalar Sistema Fotovoltaico;\n",
    "4. Ir para o ACL com Sistema Fotovoltaico e tornar-se Autoprodutor (com geração local ou remota);\n",
    "5. Alternativa 4 + BESS de Íon-Lítio.\n",
    "\n",
    "Obs: Lembrar que o Consumidor Livre pode escolher entre pagar as TUSD´s pela tarifa horosazonal Azul ou Verde. Se o Consumidor Livre escolher a tarifa horosazonal Azul ele vai ter que contratar uma demanda na ponta e contratar uma demanda fora ponta.\n",
    "\n",
    "Quando esse consumidor se tornar livre e comprar energia incentivada 50% ou 100%, o desconto vai incidir conforme as regras da Tabela 3 da Resolução Homologatória das Tarifas da Distribuidora.\n",
    "\n",
    "![Benefícios tarifários - Percentuais de desconto](./imagens/beneficiosTarifarios.png)\n",
    "\n",
    "Pelas regras atuais (ano 2022) um Consumidor Cativo pode se tornar Livre caso a demanda contratada ponta ou a demanda contratada fora ponta seja > 500 kW."
   ]
  },
  {
   "cell_type": "code",
   "execution_count": 1,
   "metadata": {},
   "outputs": [],
   "source": [
    "import pandas as pd\n",
    "import numpy as np\n",
    "import matplotlib.pyplot as plt\n"
   ]
  },
  {
   "cell_type": "code",
   "execution_count": 2,
   "metadata": {},
   "outputs": [
    {
     "data": {
      "text/plain": [
       "Unnamed: 0                      object\n",
       "CONSUMO NA PONTA (kWh)         float64\n",
       "CONSUMO FORA DA PONTA (kWh)    float64\n",
       "DEMANDA NA PONTA (kW)          float64\n",
       "DEMANDA FORA DA PONTA (kW)     float64\n",
       "Demanda contratada (kW)        float64\n",
       "dtype: object"
      ]
     },
     "execution_count": 2,
     "metadata": {},
     "output_type": "execute_result"
    }
   ],
   "source": [
    "\n",
    "autoprod_data = pd.read_excel('./documentos/planilhaAlunoJonatas.xlsx',header=1)\n",
    "\n",
    "# autoprod_data.head()\n",
    "autoprod_data.dtypes"
   ]
  },
  {
   "cell_type": "code",
   "execution_count": null,
   "metadata": {},
   "outputs": [],
   "source": [
    "meses = autoprod_data['Unnamed: 0'].to_numpy()\n",
    "consumo_ponta_kwh = autoprod_data['CONSUMO NA PONTA (kWh)'].to_numpy()\n",
    "consumo_fora_ponta_kwh = autoprod_data['CONSUMO FORA DA PONTA (kWh)'].to_numpy()\n",
    "demanda_ponta_kw = autoprod_data['DEMANDA NA PONTA (kW)'].to_numpy()\n",
    "demanda_fora_ponta_kw = autoprod_data['DEMANDA FORA DA PONTA (kW)'].to_numpy() \n",
    "demanda_contratada_kw = autoprod_data['Demanda contratada (kW)'].to_numpy()\n",
    "\n"
   ]
  }
 ],
 "metadata": {
  "kernelspec": {
   "display_name": "Python 3.10.6 64-bit",
   "language": "python",
   "name": "python3"
  },
  "language_info": {
   "codemirror_mode": {
    "name": "ipython",
    "version": 3
   },
   "file_extension": ".py",
   "mimetype": "text/x-python",
   "name": "python",
   "nbconvert_exporter": "python",
   "pygments_lexer": "ipython3",
   "version": "3.10.6"
  },
  "orig_nbformat": 4,
  "vscode": {
   "interpreter": {
    "hash": "916dbcbb3f70747c44a77c7bcd40155683ae19c65e1c03b4aa3499c5328201f1"
   }
  }
 },
 "nbformat": 4,
 "nbformat_minor": 2
}
