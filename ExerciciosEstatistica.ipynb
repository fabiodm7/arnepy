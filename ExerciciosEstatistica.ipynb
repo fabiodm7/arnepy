{
 "cells": [
  {
   "cell_type": "markdown",
   "metadata": {},
   "source": [
    "# A Questão que criou a Teoria das Probabilidades\n",
    "\n",
    "In 1654, a time when the Renaissance was in full flower, the Chevalier de Mere, a French nobleman with a taste for both gambling and mathematics, challenged the famed French mathematician Blaise Pascal to solve a puzzle. The question was how to divide the stakes of an unfinished game of chance between two players when one of them is ahead. The puzzle had confounded mathematicians since it was posed some two hundred years earlier by the monk Luca Paccioli. This was the man who brought double-entry bookkeeping to the attention of the business managers of his day---and tutored Leonardo da Vinci in the multiplication tables. Pascal turned for help to Pierre de Fermat, a lawyer who was also a brilliant mathematician. The outcome of their collaboration was intellectual dynamite. What might appear to have been a seventeenth-century version of the game of Trivial Pursuit led to the discovery of the theory of probability, the mathematical heart of the concept of risk.\n",
    "\n",
    "​Peter L. Bernstein, “Against the Gods: The Remarkable Story of Risk”, 1998.\n",
    "\n",
    "![](./imagens/imagem%20Pascal%20and%20Pierre%20de%20Fermat.webp)"
   ]
  },
  {
   "cell_type": "code",
   "execution_count": null,
   "metadata": {},
   "outputs": [],
   "source": []
  },
  {
   "cell_type": "markdown",
   "metadata": {},
   "source": [
    "# Probabilidade Condicional\n",
    "\n",
    "1) You are invested in two hedge funds. The probability that hedge fund Alpha generates positive returns in any given year is 60%. The probability that hedge fund Omega generates positive returns in any given year is 70%. Assume the returns are independent. What is the probability that both funds generate positive returns in a given year? What is the probability that both funds lose money?\n",
    "\n",
    "2) There is a 30% chance that oil prices will increase over the next six months. If oil prices increase, there is a 60% chance that the stock market will be down. What is the probability that oil prices increase and the stock market is down over the next six months?"
   ]
  },
  {
   "cell_type": "code",
   "execution_count": null,
   "metadata": {},
   "outputs": [],
   "source": []
  },
  {
   "cell_type": "markdown",
   "metadata": {},
   "source": [
    "# Função Densidade de Probabilidade\n",
    "\n",
    "![](./imagens/sample-problem.webp)\n",
    "\n",
    "Plot a graph, using Python, for the Probability Mass Function (PMF) and for the Probability Distribution Function (PDF) (the name Cumulative Distribution Function (CDF) is also used for the PDF function)"
   ]
  },
  {
   "cell_type": "code",
   "execution_count": null,
   "metadata": {},
   "outputs": [],
   "source": []
  },
  {
   "cell_type": "markdown",
   "metadata": {},
   "source": [
    "# Summary of Continuous Distributions\n",
    "\n",
    "![](./imagens/summarious%20of%20continuos%20distributions.webp)"
   ]
  },
  {
   "cell_type": "markdown",
   "metadata": {},
   "source": [
    "# Cálculo de Percentis e Quantis da PDF Gaussiana usando Python\n",
    "\n",
    "![](./imagens/PROBAB_DENST_FUNCTION_STATS_PYTHON.webp)\n",
    "![](./imagens/PROBAB_DENST_FUNCTION_STATS_PYTHON-wikip.webp)\n",
    "\n",
    "```\n",
    "# -*- coding: utf-8 -*-\n",
    "\"\"\"\n",
    "Created on Thu Jun  4 17:11:44 2020\n",
    "@author: Eduardo Sodre\n",
    "\"\"\"\n",
    "import numpy as np\n",
    "import matplotlib.pyplot as plt\n",
    "from scipy.stats import norm\n",
    "#\n",
    "mu = 0.01\n",
    "sigma = 0.134 # mean and standard deviation\n",
    "\n",
    "var_min = norm.ppf(0.0001, loc=mu, scale=sigma)\n",
    "var_max = norm.ppf(0.9999, loc=mu, scale=sigma)\n",
    "\n",
    "print(var_min,var_max) \n",
    "\n",
    "prob_menor_que = norm.cdf(-0.3333, loc=mu, scale=sigma)\n",
    "print(prob_menor_que) \n",
    "\n",
    "bins = np.linspace(var_min, var_max, num=50)\n",
    "\n",
    "var11 = 1/(sigma * np.sqrt(2 * np.pi))\n",
    "vet11 = ((bins - mu)**2) / (sigma**2)\n",
    "vet21 =  var11 * np.exp( -0.5*vet11)\n",
    "\n",
    "plt.plot(bins, vet21, linewidth=2, color='r')\n",
    "plt.grid(True)\n",
    "plt.show()\n",
    "```"
   ]
  },
  {
   "cell_type": "markdown",
   "metadata": {},
   "source": [
    "# Problema do Ticket Counter\n",
    "\n",
    "![](./imagens/imagem-problema-ticket-counter.webp)"
   ]
  },
  {
   "cell_type": "markdown",
   "metadata": {},
   "source": [
    "# Simulação de Monte Carlo\n",
    "\n",
    "a) Use Monte Carlo Simulation to estimate the mean and standard deviation of (X^2), when X follows a Weibull distribution with a=b=1.\n",
    "\n",
    "b) Calculate correlation coefficient, using Monte Carlo Simulation, by X and (X^2) when X is uniformly distributed in [0,1]."
   ]
  },
  {
   "cell_type": "markdown",
   "metadata": {},
   "source": [
    "# Problema das Moedas Correlacionadas\n",
    "\n",
    "Dois amigos, João e José, estão jogando com duas moedas. Só que essas moedas são correlacionadas. Para a Moeda 1 há 30% de chance de que seja sorteado o valor “CARA”. Se para a Moeda 1 for sorteado o valor “CARA”, há 60% de chance de que seja sorteado o valor “CARA” para a Moeda 2. Ou seja, as moedas estão correlacionadas.\n",
    "\n",
    "O jogo é o seguinte: Se após o lançamento das 2 moedas saírem dois valores “CARA” quem leva o dinheiro da aposta é o João. E se após o lançamento das 2 moedas saírem dois valores “COROA” quem leva o dinheiro da aposta é o José. Se saírem valores “CARA” e “COROA”, não há vencedores.\n",
    "\n",
    "Você consegue fazer uma Simulação de Monte Carlo para determinar quem tem maior probabilidade de ganhar o jogo???"
   ]
  },
  {
   "cell_type": "markdown",
   "metadata": {},
   "source": [
    "# Problema de Varáveis Estocásticas Correlacionadas\n",
    "```\n",
    ">>> import numpy as np \n",
    ">>> val = np.random.multivariate_normal((0,0),[[1,1],[1,4]],1000)\n",
    "```\n",
    "random.multivariate_normal(mean, cov, size=None, check_valid='warn', tol=1e-8)\n",
    "\n",
    "Draw random samples from a multivariate normal distribution. \n",
    "\n",
    "The multivariate normal, multinormal or Gaussian distribution is a generalization of the one-dimensional normal distribution to higher dimensions. Such a distribution is specified by its mean and covariance matrix. These parameters are analogous to the mean (average or “center”) and variance (standard deviation, or “width,” squared) of the one-dimensional normal distribution."
   ]
  },
  {
   "cell_type": "markdown",
   "metadata": {},
   "source": [
    "# Variance and Standard Deviation\n",
    "\n",
    "![](./imagens/degrees%20of%20freedom.webp)"
   ]
  },
  {
   "cell_type": "markdown",
   "metadata": {},
   "source": [
    "![](./imagens/image%20covariance%20and%20correlation%20book%20Miller.webp)"
   ]
  },
  {
   "cell_type": "markdown",
   "metadata": {},
   "source": [
    "# Row-wise and Column-wise Pearson Correlation Coefficients\n",
    "\n",
    "Examples\n",
    "\n",
    "In this example we generate two random arrays, xarr and yarr, and compute the row-wise and column-wise Pearson correlation coefficients, R. Since rowvar is true by default, we first find the row-wise Pearson correlation coefficients between the variables of xarr.\n",
    "```\n",
    ">>> import numpy as np\n",
    ">>> rng = np.random.default_rng(seed=42)\n",
    ">>> xarr = rng.random((3, 3))\n",
    ">>> R1 = np.corrcoef(xarr)\n",
    "```\n",
    "If we add another set of variables and observations yarr, we can compute the row-wise Pearson correlation coefficients between the variables in xarr and yarr.\n",
    "```\n",
    ">>> yarr = rng.random((3, 3))\n",
    ">>> R2 = np.corrcoef(xarr, yarr)\n",
    "```"
   ]
  },
  {
   "cell_type": "markdown",
   "metadata": {},
   "source": [
    "# Other types of correlation coefficients, such as Spearman’s rho or Kendall’s tau.\n",
    "\n",
    "![](./imagens/other%20correlation%20estimates.webp)"
   ]
  },
  {
   "cell_type": "markdown",
   "metadata": {},
   "source": [
    "# Problema do Monty Hall\n",
    "\n",
    "The original and most simple scenario of the Monty Hall problem is this:\n",
    "\n",
    "You are in a prize contest and in front of you there are three doors (A, B and C). Behind one of the doors is a prize (Car), while behind others is a loss (Goat). You first choose a door (let’s say door A). The contest host then opens another door behind which is a goat (let’s say door B), and then he asks you if will you stay behind your original choice or will you switch the door. The question behind this is what is the better strategy?\n",
    "\n",
    "The most common answer is that it doesn’t matter which strategy you choose because it is 50/50 chance – but it is not.\n",
    "\n",
    "https://www.r-bloggers.com/in-memory-of-monty-hall/\n",
    "\n",
    "![](./imagens/imagem%20Monty%20Hall.webp)"
   ]
  },
  {
   "cell_type": "markdown",
   "metadata": {},
   "source": []
  }
 ],
 "metadata": {
  "kernelspec": {
   "display_name": "Python 3.10.6 64-bit",
   "language": "python",
   "name": "python3"
  },
  "language_info": {
   "name": "python",
   "version": "3.10.6"
  },
  "orig_nbformat": 4,
  "vscode": {
   "interpreter": {
    "hash": "916dbcbb3f70747c44a77c7bcd40155683ae19c65e1c03b4aa3499c5328201f1"
   }
  }
 },
 "nbformat": 4,
 "nbformat_minor": 2
}
