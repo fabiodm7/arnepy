{
 "cells": [
  {
   "cell_type": "markdown",
   "metadata": {},
   "source": [
    "# Venda de geração eólica no PLD horário"
   ]
  },
  {
   "cell_type": "markdown",
   "metadata": {},
   "source": [
    "Imagine que o proprietário de um Parque Eólico sabe exatamente o valor de geração do seu Parque hora a hora para o próximo trimestre (90 dias).\n",
    "\n",
    "Vale ressaltar que essa é uma suposição totalmente descabida e serve somente para efeitos didáticos para esse nosso problema.\n",
    "\n",
    "E mais ainda, vamos supor também que esse proprietário sabe exatamente os valores do PLD horário (spot price) no Mercado Brasileiro para os próximos 90 dias.\n",
    "\n",
    "Essas duas informações: geração horária e PLD horário estão na [Planilha Excel](./documentos/GeracaoEolicaPldHorario.xlsx).\n",
    "\n",
    "Com essas duas informações, pergunta-se: qual o melhor Contrato para esse Parque Eólico entre os 3 apresentados a seguir???\n",
    "\n",
    "Contrato-1: Quantidade de 2 MWmed com modulação FLAT ao Preço de 165.00 R$/MWh.\n",
    "\n",
    "Contrato-2: Quantidade de 5 MWmed com a seguinte modulação horária  \n",
    "[4.60, 6.41, 6.98, 7.16, 7.30, 6.76, 6.41, 6.55, 6.56, 5.95, 5.44, 4.90, 4.29, 3.94, 3.70, 3.41, 3.36, 2.87, 2.98, 3.98, 4.08, 4.13, 4.08, 4.17]  \n",
    "e ao Preço de 171.00 R$/MWh.\n",
    "\n",
    "Contrato-3: Quantidade de 5 MWmed com a seguinte modulação horária  \n",
    "[4.17, 4.08, 4.13, 4.08, 3.98, 2.98, 2.87, 3.36, 3.41, 3.70, 3.94, 4.29, 4.90, 5.44, 5.95, 6.56, 6.55, 6.41, 6.76, 7.30, 7.16, 6.98, 6.41, 4.60]  \n",
    "e ao Preço de 172.50 R$/MWh."
   ]
  },
  {
   "cell_type": "code",
   "execution_count": 1,
   "metadata": {},
   "outputs": [],
   "source": [
    "# bibliotecas\n",
    "\n",
    "import pandas as pd\n",
    "import numpy as np"
   ]
  },
  {
   "cell_type": "markdown",
   "metadata": {},
   "source": [
    "## Dados de entrada"
   ]
  },
  {
   "cell_type": "code",
   "execution_count": 2,
   "metadata": {},
   "outputs": [],
   "source": [
    "# dados de entrada\n",
    "\n",
    "# assumi que os dados estão em MW\n",
    "geracao_mw = pd.read_excel('./documentos/GeracaoEolicaPldHorario.xlsx', sheet_name='Gera')\n",
    "# geracao_mw.head()\n",
    "\n",
    "pldh_reais_mwh = pd.read_excel('./documentos/GeracaoEolicaPldHorario.xlsx', sheet_name='PLDh')\n",
    "# pldh_reais_mwh.head()\n",
    "\n",
    "contrato_1 = {\n",
    "    'quantidade_contrato_mwmed': 2.0,\n",
    "    'preco_cotrato_reais_mwh': 165.0\n",
    "}\n",
    "# print('Contrato 01:',\n",
    "#     '\\n- Quantidade em MW med:', contrato_1['quantidade_contrato_mwmed'],\n",
    "#     '\\n- Preco do contrato em R$/MWh:', contrato_1['preco_cotrato_reais_mwh']\n",
    "# )\n",
    "\n",
    "contrato_2 = {\n",
    "    'quantidade_contrato_mwmed': 5.0,\n",
    "    'preco_cotrato_reais_mwh': 171.0,\n",
    "    'modulacao_horaria_mw': [4.60, 6.41, 6.98, 7.16, 7.30, 6.76, 6.41, 6.55, 6.56, 5.95, 5.44, 4.90, 4.29, 3.94, 3.70, 3.41, 3.36, 2.87, 2.98, 3.98, 4.08, 4.13, 4.08, 4.17] \n",
    "}\n",
    "# print('Contrato 02:',\n",
    "#     '\\n- Quantidade em MW med:', contrato_2['quantidade_contrato_mwmed'],\n",
    "#     '\\n- Preco do contrato em R$/MWh:', contrato_2['preco_cotrato_reais_mwh'],\n",
    "#     '\\n- Modulcao horária em MW:', contrato_2['modulacao_horaria_mw']\n",
    "# )\n",
    "\n",
    "contrato_3 = {\n",
    "    'quantidade_contrato_mwmed': 5.0,\n",
    "    'preco_cotrato_reais_mwh': 172.5,\n",
    "    'modulacao_horaria_mw': [4.17, 4.08, 4.13, 4.08, 3.98, 2.98, 2.87, 3.36, 3.41, 3.70, 3.94, 4.29, 4.90, 5.44, 5.95, 6.56, 6.55, 6.41, 6.76, 7.30, 7.16, 6.98, 6.41, 4.60]\n",
    "}\n",
    "# print('Contrato 03:',\n",
    "#     '\\n- Quantidade em MW med:', contrato_3['quantidade_contrato_mwmed'],\n",
    "#     '\\n- Preco do contrato em R$/MWh:', contrato_3['preco_cotrato_reais_mwh'],\n",
    "#     '\\n- Modulcao horária em MW:', contrato_3['modulacao_horaria_mw']\n",
    "# ) \n",
    "\n",
    "dias = len(geracao_mw)\n",
    "# print(dias)\n",
    "\n",
    "geracao_mwh = geracao_mw.iloc[:,1:25]\n",
    "# geracao_mwh.head()\n",
    "\n",
    "pldh_reais_mwh = pldh_reais_mwh.iloc[:,1:25]\n",
    "# pldh_reais_mwh.head()\n",
    "\n",
    "horas = list(geracao_mwh.columns)\n",
    "# print(horas)\n"
   ]
  },
  {
   "cell_type": "markdown",
   "metadata": {},
   "source": [
    "## Contrato 1"
   ]
  },
  {
   "cell_type": "code",
   "execution_count": 3,
   "metadata": {},
   "outputs": [
    {
     "name": "stdout",
     "output_type": "stream",
     "text": [
      "\n",
      "Contrato 1\n",
      "ganho_contrato_reais: 712,800.00\n",
      "exposicao_mcp_reais_mwh: 1,142,669.40\n",
      "total_ganho_contrato_exposicao_mcp_reais: 1,855,469.40\n"
     ]
    }
   ],
   "source": [
    "# Análise do contrato 1\n",
    "\n",
    "contrato = contrato_1\n",
    "\n",
    "quantidade_contrato_mwh = pd.DataFrame(np.ones((dias,len(horas))) * contrato['quantidade_contrato_mwmed'], columns = horas)\n",
    "# quantidade_contrato_mwh\n",
    "\n",
    "ganho_contrato_reais = (quantidade_contrato_mwh * contrato['preco_cotrato_reais_mwh']).sum().sum()\n",
    "# ganho_contrato_reais\n",
    "\n",
    "exposicao_mcp_mwh = geracao_mwh - quantidade_contrato_mwh\n",
    "# exposicao_mcp_mwh\n",
    "\n",
    "exposicao_mcp_reais_mwh = (exposicao_mcp_mwh * pldh_reais_mwh).sum().sum()\n",
    "# print('exposicao_mcp_reais_mwh:',exposicao_mcp_reais_mwh)\n",
    "# print(type(exposicao_mcp_reais_mwh))\n",
    "\n",
    "total_ganho_contrato_exposicao_mcp_reais = ganho_contrato_reais + exposicao_mcp_reais_mwh\n",
    "\n",
    "print('\\nContrato 1')\n",
    "print('ganho_contrato_reais: {:,.2f}'.format(ganho_contrato_reais))\n",
    "print('exposicao_mcp_reais_mwh: {:,.2f}'.format(exposicao_mcp_reais_mwh))\n",
    "print('total_ganho_contrato_exposicao_mcp_reais: {:,.2f}'.format(total_ganho_contrato_exposicao_mcp_reais))"
   ]
  },
  {
   "cell_type": "markdown",
   "metadata": {},
   "source": [
    "## Contrato 2"
   ]
  },
  {
   "cell_type": "code",
   "execution_count": 4,
   "metadata": {},
   "outputs": [
    {
     "name": "stdout",
     "output_type": "stream",
     "text": [
      "\n",
      "Contrato 2 - Lógica A\n",
      "ganho_contrato_reais: 1,347,902.19\n",
      "exposicao_mcp_reais_mwh: 805,260.61\n",
      "total_ganho_contrato_exposicao_mcp_reais: 2,153,162.80\n",
      "\n",
      "Contrato 2 - Lógica B\n",
      "ganho_contrato_reais: 1,471,319.73\n",
      "exposicao_mcp_reais_mwh: 805,260.61\n",
      "total_ganho_contrato_exposicao_mcp_reais: 2,276,580.34\n"
     ]
    }
   ],
   "source": [
    "# Análise do contrato 2\n",
    "\n",
    "contrato = contrato_2\n",
    "\n",
    "quantidade_contrato_mwh = pd.DataFrame(np.ones((dias,len(horas))) * contrato['quantidade_contrato_mwmed'], columns = horas)\n",
    "# quantidade_contrato_mwh\n",
    "\n",
    "modulacao_contrato_mwh = pd.DataFrame(np.ones((dias,len(horas))) * contrato['modulacao_horaria_mw'], columns = horas)\n",
    "# modulacao_contrato_mwh\n",
    "\n",
    "# A - Considerando que:\n",
    "# Se geracao_mwh <= modulacao_contrato_mwh -> ganho_contrato_reais = geracao_mwh * preco_contrato_reais_mwh\n",
    "# Se geracao_mwh > modulacao_contrato_mwh -> ganho_contrato_reais =  modulacao_contrato_mwh * preco_contrato_reais_mwh\n",
    "#                                                                 + (geracao_mwh - modulacao_contrato_mwh) * pdlh_reais_mwh\n",
    "\n",
    "diferenca_geracao_modulacao_mwh = geracao_mwh - modulacao_contrato_mwh\n",
    "# diferenca_geracao_modulacao_mwh\n",
    "\n",
    "geracao_menorigual_modulacao_mwh = geracao_mwh - diferenca_geracao_modulacao_mwh[diferenca_geracao_modulacao_mwh > 0].fillna(0)\n",
    "# geracao_menorigual_modulacao_mwh\n",
    "\n",
    "ganho_contrato_reais = (geracao_menorigual_modulacao_mwh * contrato['preco_cotrato_reais_mwh']).sum().sum()\n",
    "# ganho_contrato_reais\n",
    "\n",
    "exposicao_mcp_mwh = diferenca_geracao_modulacao_mwh[diferenca_geracao_modulacao_mwh > 0].fillna(0)\n",
    "# exposicao_mcp_mwh\n",
    "\n",
    "exposicao_mcp_reais_mwh = (exposicao_mcp_mwh * pldh_reais_mwh).sum().sum()\n",
    "\n",
    "total_ganho_contrato_exposicao_mcp_reais = ganho_contrato_reais + exposicao_mcp_reais_mwh\n",
    "\n",
    "print('\\nContrato 2 - Lógica A')\n",
    "print('ganho_contrato_reais: {:,.2f}'.format(ganho_contrato_reais))\n",
    "print('exposicao_mcp_reais_mwh: {:,.2f}'.format(exposicao_mcp_reais_mwh))\n",
    "print('total_ganho_contrato_exposicao_mcp_reais: {:,.2f}'.format(total_ganho_contrato_exposicao_mcp_reais))\n",
    "\n",
    "# B - Considerando que:\n",
    "# Se geracao_mwh <= modulacao_contrato_mwh -> ganho_contrato_reais = geracao_mwh * preco_contrato_reais_mwh\n",
    "# Se geracao_mwh > modulacao_contrato_mwh > quantidade_contrato_mwh -> \n",
    "# ganho_contrato_reais = modulacao_contrato_mwh * preco_contrato_reais_mwh + (geracao_mwh - modulacao_contrato_mwh) * pdlh_reais_mwh\n",
    "# Se geracao_mwh > modulacao_contrato_mwh < quantidade_contrato_mwh -> \n",
    "# ganho_contrato_reais = quantidade_contrato_mwh * preco_contrato_reais_mwh + (geracao_mwh - quantidade_contrato_mwh) * pdlh_reais_mwh\n",
    "\n",
    "diferenca_geracao_modulacao_mwh = geracao_mwh - modulacao_contrato_mwh\n",
    "# diferenca_geracao_modulacao_mwh\n",
    "\n",
    "geracao_menorigual_modulacao_mwh = geracao_mwh - diferenca_geracao_modulacao_mwh[diferenca_geracao_modulacao_mwh > 0].fillna(0)\n",
    "# geracao_menorigual_modulacao_mwh\n",
    "\n",
    "diferenca_geracao_quantidade_contrato_mwh = geracao_mwh - quantidade_contrato_mwh\n",
    "# diferenca_geracao_quantidade_contrato_mwh\n",
    "\n",
    "geracao_menorigual_quantidade_contrato_mwh = geracao_mwh[diferenca_geracao_modulacao_mwh > 0].fillna(0)\n",
    "geracao_menorigual_quantidade_contrato_mwh = geracao_menorigual_quantidade_contrato_mwh[modulacao_contrato_mwh < quantidade_contrato_mwh].fillna(0)\n",
    "geracao_menorigual_quantidade_contrato_mwh = quantidade_contrato_mwh[geracao_menorigual_quantidade_contrato_mwh > 0].fillna(0)\n",
    "geracao_menorigual_quantidade_contrato_mwh = geracao_menorigual_quantidade_contrato_mwh - geracao_menorigual_modulacao_mwh\n",
    "geracao_menorigual_quantidade_contrato_mwh = geracao_menorigual_quantidade_contrato_mwh[geracao_menorigual_quantidade_contrato_mwh > 0].fillna(0)\n",
    "# geracao_menorigual_quantidade_contrato_mwh\n",
    "\n",
    "ganho_contrato_reais = geracao_menorigual_modulacao_mwh + geracao_menorigual_quantidade_contrato_mwh\n",
    "ganho_contrato_reais = (ganho_contrato_reais * contrato['preco_cotrato_reais_mwh']).sum().sum()\n",
    "# ganho_contrato_reais\n",
    "\n",
    "exposicao_mcp_mwh = diferenca_geracao_modulacao_mwh[diferenca_geracao_modulacao_mwh > 0].fillna(0)\n",
    "# exposicao_mcp_mwh\n",
    "\n",
    "exposicao_mcp_reais_mwh = (exposicao_mcp_mwh * pldh_reais_mwh).sum().sum()\n",
    "\n",
    "total_ganho_contrato_exposicao_mcp_reais = ganho_contrato_reais + exposicao_mcp_reais_mwh\n",
    "\n",
    "print('\\nContrato 2 - Lógica B')\n",
    "print('ganho_contrato_reais: {:,.2f}'.format(ganho_contrato_reais))\n",
    "print('exposicao_mcp_reais_mwh: {:,.2f}'.format(exposicao_mcp_reais_mwh))\n",
    "print('total_ganho_contrato_exposicao_mcp_reais: {:,.2f}'.format(total_ganho_contrato_exposicao_mcp_reais))\n"
   ]
  },
  {
   "cell_type": "markdown",
   "metadata": {},
   "source": [
    "## Contrato 3"
   ]
  },
  {
   "cell_type": "code",
   "execution_count": 5,
   "metadata": {},
   "outputs": [
    {
     "name": "stdout",
     "output_type": "stream",
     "text": [
      "\n",
      "Contrato 3 - Lógica A\n",
      "ganho_contrato_reais: 1,247,337.64\n",
      "exposicao_mcp_reais_mwh: 870,221.03\n",
      "total_ganho_contrato_exposicao_mcp_reais: 2,117,558.67\n",
      "\n",
      "Contrato 3 - Lógica B\n",
      "ganho_contrato_reais: 1,414,566.04\n",
      "exposicao_mcp_reais_mwh: 870,221.03\n",
      "total_ganho_contrato_exposicao_mcp_reais: 2,284,787.07\n"
     ]
    }
   ],
   "source": [
    "# Análise do contrato 3\n",
    "\n",
    "contrato = contrato_3\n",
    "\n",
    "quantidade_contrato_mwh = pd.DataFrame(np.ones((dias,len(horas))) * contrato['quantidade_contrato_mwmed'], columns = horas)\n",
    "# quantidade_contrato_mwh\n",
    "\n",
    "modulacao_contrato_mwh = pd.DataFrame(np.ones((dias,len(horas))) * contrato['modulacao_horaria_mw'], columns = horas)\n",
    "# modulacao_contrato_mwh\n",
    "\n",
    "# A - Considerando que:\n",
    "# Se geracao_mwh <= modulacao_contrato_mwh -> ganho_contrato_reais = geracao_mwh * preco_contrato_reais_mwh\n",
    "# Se geracao_mwh > modulacao_contrato_mwh -> ganho_contrato_reais =  modulacao_contrato_mwh * preco_contrato_reais_mwh\n",
    "#                                                                 + (geracao_mwh - modulacao_contrato_mwh) * pdlh_reais_mwh\n",
    "\n",
    "diferenca_geracao_modulacao_mwh = geracao_mwh - modulacao_contrato_mwh\n",
    "# diferenca_geracao_modulacao_mwh\n",
    "\n",
    "geracao_menorigual_modulacao_mwh = geracao_mwh - diferenca_geracao_modulacao_mwh[diferenca_geracao_modulacao_mwh > 0].fillna(0)\n",
    "# geracao_menorigual_modulacao_mwh\n",
    "\n",
    "ganho_contrato_reais = (geracao_menorigual_modulacao_mwh * contrato['preco_cotrato_reais_mwh']).sum().sum()\n",
    "# ganho_contrato_reais\n",
    "\n",
    "exposicao_mcp_mwh = diferenca_geracao_modulacao_mwh[diferenca_geracao_modulacao_mwh > 0].fillna(0)\n",
    "# exposicao_mcp_mwh\n",
    "\n",
    "exposicao_mcp_reais_mwh = (exposicao_mcp_mwh * pldh_reais_mwh).sum().sum()\n",
    "\n",
    "total_ganho_contrato_exposicao_mcp_reais = ganho_contrato_reais + exposicao_mcp_reais_mwh\n",
    "\n",
    "print('\\nContrato 3 - Lógica A')\n",
    "print('ganho_contrato_reais: {:,.2f}'.format(ganho_contrato_reais))\n",
    "print('exposicao_mcp_reais_mwh: {:,.2f}'.format(exposicao_mcp_reais_mwh))\n",
    "print('total_ganho_contrato_exposicao_mcp_reais: {:,.2f}'.format(total_ganho_contrato_exposicao_mcp_reais))\n",
    "\n",
    "# B - Considerando que:\n",
    "# Se geracao_mwh <= modulacao_contrato_mwh -> ganho_contrato_reais = geracao_mwh * preco_contrato_reais_mwh\n",
    "# Se geracao_mwh > modulacao_contrato_mwh -> ganho_contrato_reais = quantidade_contrato_mwh * preco_contrato_reais_mwh\n",
    "#                                                                 + (geracao_mwh - quantidade_contrato_mwh) * pdlh_reais_mwh\n",
    "\n",
    "diferenca_geracao_modulacao_mwh = geracao_mwh - modulacao_contrato_mwh\n",
    "# diferenca_geracao_modulacao_mwh\n",
    "\n",
    "geracao_menorigual_modulacao_mwh = geracao_mwh - diferenca_geracao_modulacao_mwh[diferenca_geracao_modulacao_mwh > 0].fillna(0)\n",
    "# geracao_menorigual_modulacao_mwh\n",
    "\n",
    "diferenca_geracao_quantidade_contrato_mwh = geracao_mwh - quantidade_contrato_mwh\n",
    "# diferenca_geracao_quantidade_contrato_mwh\n",
    "\n",
    "geracao_menorigual_quantidade_contrato_mwh = geracao_mwh[diferenca_geracao_modulacao_mwh > 0].fillna(0)\n",
    "geracao_menorigual_quantidade_contrato_mwh = geracao_menorigual_quantidade_contrato_mwh[modulacao_contrato_mwh < quantidade_contrato_mwh].fillna(0)\n",
    "geracao_menorigual_quantidade_contrato_mwh = quantidade_contrato_mwh[geracao_menorigual_quantidade_contrato_mwh > 0].fillna(0)\n",
    "geracao_menorigual_quantidade_contrato_mwh = geracao_menorigual_quantidade_contrato_mwh - geracao_menorigual_modulacao_mwh\n",
    "geracao_menorigual_quantidade_contrato_mwh = geracao_menorigual_quantidade_contrato_mwh[geracao_menorigual_quantidade_contrato_mwh > 0].fillna(0)\n",
    "# geracao_menorigual_quantidade_contrato_mwh\n",
    "\n",
    "ganho_contrato_reais = geracao_menorigual_modulacao_mwh + geracao_menorigual_quantidade_contrato_mwh\n",
    "ganho_contrato_reais = (ganho_contrato_reais * contrato['preco_cotrato_reais_mwh']).sum().sum()\n",
    "# ganho_contrato_reais\n",
    "\n",
    "exposicao_mcp_mwh = diferenca_geracao_modulacao_mwh[diferenca_geracao_modulacao_mwh > 0].fillna(0)\n",
    "# exposicao_mcp_mwh\n",
    "\n",
    "exposicao_mcp_reais_mwh = (exposicao_mcp_mwh * pldh_reais_mwh).sum().sum()\n",
    "\n",
    "total_ganho_contrato_exposicao_mcp_reais = ganho_contrato_reais + exposicao_mcp_reais_mwh\n",
    "\n",
    "print('\\nContrato 3 - Lógica B')\n",
    "print('ganho_contrato_reais: {:,.2f}'.format(ganho_contrato_reais))\n",
    "print('exposicao_mcp_reais_mwh: {:,.2f}'.format(exposicao_mcp_reais_mwh))\n",
    "print('total_ganho_contrato_exposicao_mcp_reais: {:,.2f}'.format(total_ganho_contrato_exposicao_mcp_reais))"
   ]
  },
  {
   "cell_type": "markdown",
   "metadata": {},
   "source": [
    "O melhor seria o ***Contrato 2*** considerando a lógica A e o ***Contrato 3*** considerando a lógica B"
   ]
  },
  {
   "cell_type": "markdown",
   "metadata": {},
   "source": []
  }
 ],
 "metadata": {
  "kernelspec": {
   "display_name": "Python 3.10.6 64-bit",
   "language": "python",
   "name": "python3"
  },
  "language_info": {
   "codemirror_mode": {
    "name": "ipython",
    "version": 3
   },
   "file_extension": ".py",
   "mimetype": "text/x-python",
   "name": "python",
   "nbconvert_exporter": "python",
   "pygments_lexer": "ipython3",
   "version": "3.10.6"
  },
  "orig_nbformat": 4,
  "vscode": {
   "interpreter": {
    "hash": "916dbcbb3f70747c44a77c7bcd40155683ae19c65e1c03b4aa3499c5328201f1"
   }
  }
 },
 "nbformat": 4,
 "nbformat_minor": 2
}
