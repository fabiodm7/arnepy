{
 "cells": [
  {
   "cell_type": "markdown",
   "metadata": {},
   "source": [
    "# Estatística\n",
    "\n",
    "## Funções de probabilidade\n",
    "\n",
    "- Cálculo de percentis e quantis das funções de probabilidade utilizando Python\n",
    "\n",
    "- Problema do ticker vounter\n",
    "\n",
    "- Função de probabilidade discreta (Probability mass function for discrete random variables)\n",
    "\n",
    "- Função de probabilidade contínua (Probability density function for continuous random variables)\n",
    "\n",
    "- Função probabilidade acumulada (Probability distribution function)"
   ]
  },
  {
   "cell_type": "code",
   "execution_count": null,
   "metadata": {},
   "outputs": [],
   "source": []
  }
 ],
 "metadata": {
  "kernelspec": {
   "display_name": "Python 3.10.6 64-bit",
   "language": "python",
   "name": "python3"
  },
  "language_info": {
   "name": "python",
   "version": "3.10.6"
  },
  "orig_nbformat": 4,
  "vscode": {
   "interpreter": {
    "hash": "916dbcbb3f70747c44a77c7bcd40155683ae19c65e1c03b4aa3499c5328201f1"
   }
  }
 },
 "nbformat": 4,
 "nbformat_minor": 2
}
