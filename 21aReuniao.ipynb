{
 "cells": [
  {
   "cell_type": "markdown",
   "metadata": {},
   "source": [
    "# Problema da sazonalização"
   ]
  },
  {
   "cell_type": "code",
   "execution_count": 1,
   "metadata": {},
   "outputs": [],
   "source": [
    "import numpy as np\n",
    "\n",
    "consumo_MWmed = np.array([2.20, 3.52, 5.34, 2.70, 8.51, 2.92, 9.58, 12.4, 15.68, 13.95, 5.53, 5.53]) # em MWmed\n",
    "\n",
    "Numero_horas_mes = np.array([744.00, 672.00, 744.00, 720.00, 744.00, 720.00, 744.00, 744.00, 720.00, 744.00, 720.00, 744.00])"
   ]
  },
  {
   "cell_type": "markdown",
   "metadata": {},
   "source": [
    "A carga que o consumidor quer contratar para os 12 meses do próximo ano é a carga acima. Ela foi “quantificada” tomando-se como base as cargas históricas de anos passados e também levando-se em consideração algumas ampliações fabris que vão acontecer no próximo ano.\n",
    "\n",
    "Para a análise simplificada que pretendemos fazer aqui, vamos considerar que a carga a ser contratada é determinística. Ou seja, existe 100% de certeza que serão consumidos esses valores no próximo ano (o consumo não entra no problema como uma variável estocástica).\n",
    "\n",
    "O PLD mensal que vamos considerar, também por razões de simplificação, é considerado determinístico e não estocástico. Ele foi “quantificado” tomando-se como base os PLDs históricos dos anos passados e também levando-se em consideração algumas suposições de comportamento futuro do PLD."
   ]
  },
  {
   "cell_type": "code",
   "execution_count": 2,
   "metadata": {},
   "outputs": [],
   "source": [
    "PLD = np.array([242.72, 165.98, 109.02, 132.63, 218.70, 336.99, 583.88, 583.88, 577.37, 249.36, 88.10, 66.67]) # em R$/MWh"
   ]
  },
  {
   "cell_type": "markdown",
   "metadata": {},
   "source": [
    "**Pergunta-se:** Considerando-se os 4 Contratos disponíveis abaixo, qual é o melhor contrato para esse consumidor???\n",
    "\n",
    "**CONTRATO-1** \\\n",
    "Quantidade Contrato (MWmed) = 8.0 \\\n",
    "Preço do Contrato (R$/MWh) = 120.0 \\\n",
    "Percentual de Sazo = 0.0 \\\n",
    "Percentual de Flex = 0.0\n",
    "\n",
    "**CONTRATO-2** \\\n",
    "Quantidade Contrato (MWmed) = 6.0 \\\n",
    "Preço do Contrato (R$/MWh) = 190.0 \\\n",
    "Percentual de Sazo = 0.0 \\\n",
    "Percentual de Flex = 0.3\n",
    "\n",
    "**CONTRATO-3** \\\n",
    "Quantidade Contrato (MWmed) = 5.0 \\\n",
    "Preço do Contrato (R$/MWh) = 220.0 \\\n",
    "Percentual de Sazo = 0.4 \\\n",
    "Percentual de Flex = 0.0\n",
    "\n",
    "**CONTRATO-4** \\\n",
    "Quantidade Contrato (MWmed) = 8.0 \\\n",
    "Preço do Contrato (R$/MWh) = 240.0 \\\n",
    "Percentual de Sazo = 0.5 \\\n",
    "Percentual de Flex = 0.5"
   ]
  },
  {
   "cell_type": "code",
   "execution_count": null,
   "metadata": {},
   "outputs": [],
   "source": []
  },
  {
   "cell_type": "markdown",
   "metadata": {},
   "source": [
    "# Problema das Moedas Correlacionadas\n",
    "\n",
    "Dois amigos, João e José, estão jogando com duas moedas. Só que essas moedas são correlacionadas. Para a Moeda 1 há 30% de chance de que seja sorteado o valor “CARA”. Se para a Moeda 1 for sorteado o valor “CARA”, há 60% de chance de que seja sorteado o valor “CARA” para a Moeda 2. Ou seja, as moedas estão correlacionadas.\n",
    "\n",
    "O jogo é o seguinte: Se após o lançamento das 2 moedas saírem dois valores “CARA” quem leva o dinheiro da aposta é o João. E se após o lançamento das 2 moedas saírem dois valores “COROA” quem leva o dinheiro da aposta é o José. Se saírem valores “CARA” e “COROA”, não há vencedores.\n",
    "\n",
    "Você consegue fazer uma Simulação de Monte Carlo para determinar quem tem maior probabilidade de ganhar o jogo???"
   ]
  },
  {
   "cell_type": "code",
   "execution_count": null,
   "metadata": {},
   "outputs": [],
   "source": []
  },
  {
   "cell_type": "markdown",
   "metadata": {},
   "source": [
    "# Problema Cativo x Livre\n",
    "\n",
    "A unidade consumidora de energia elétrica em questão é um consumidor cativo e está na modalidade tarifária horária verde, pertencente ao subgrupo A4.\n",
    "\n",
    "Faça a Análise de Viabilidade Cativo x Livre para essa Unidade Consumidora.\n",
    "\n",
    "Os dados de consumo para um ano típico, em base mensal, estão disponíveis na Planilha Excel abaixo.\n",
    "\n",
    "[Planilha de apoio](./documentos/planilhaAlunoJonatas.xlsx)\n",
    "\n",
    "Agora compare as alternativas acima com a alternativa de colocar um sistema fotovoltaico na unidade consumidora e ela continuar no ACR (Ambiente de Contratação Regulada).\n",
    "\n",
    "Depois compare com a alternativa da unidade consumidora ter o sistema de geração fotovoltaica e migrar para o ACL tornando-se Autoprodutor.\n",
    "\n",
    "Depois de tudo, compare as alternativas de negócios acima com a alternativa da unidade consumidora ter o sistema de geração fotovoltaica, migrar para o ACL tornando-se Autoprodutor e possuir um BESS (Battery Energy Storage System) de Íon-Lítio.\n",
    "\n",
    "Qual das 5 alternativas é a melhor para essa Unidade Consumidora?\n",
    "\n",
    "Para relembrar as 5 alternativas segue um resumo:\n",
    "1. Continuar no ACR (pode mudar de tarifa horosazonal);\n",
    "2. Ir para o ACL;\n",
    "3. Continuar no ACR e instalar Sistema Fotovoltaico;\n",
    "4. Ir para o ACL com Sistema Fotovoltaico e tornar-se Autoprodutor (com geração local ou remota);\n",
    "5. Alternativa 4 + BESS de Íon-Lítio.\n",
    "\n",
    "Obs: Lembrar que o Consumidor Livre pode escolher entre pagar as TUSD´s pela tarifa horosazonal Azul ou Verde. Se o Consumidor Livre escolher a tarifa horosazonal Azul ele vai ter que contratar uma demanda na ponta e contratar uma demanda fora ponta.\n",
    "\n",
    "Quando esse consumidor se tornar livre e comprar energia incentivada 50% ou 100%, o desconto vai incidir conforme as regras da Tabela 3 da Resolução Homologatória das Tarifas da Distribuidora.\n",
    "\n",
    "![Benefícios tarifários - Percentuais de desconto](./imagens/beneficiosTarifarios.png)\n",
    "\n",
    "Pelas regras atuais (ano 2022) um Consumidor Cativo pode se tornar Livre caso a demanda contratada ponta ou a demanda contratada fora ponta seja > 500 kW."
   ]
  },
  {
   "cell_type": "code",
   "execution_count": null,
   "metadata": {},
   "outputs": [],
   "source": []
  }
 ],
 "metadata": {
  "kernelspec": {
   "display_name": "Python 3.10.6 64-bit",
   "language": "python",
   "name": "python3"
  },
  "language_info": {
   "codemirror_mode": {
    "name": "ipython",
    "version": 3
   },
   "file_extension": ".py",
   "mimetype": "text/x-python",
   "name": "python",
   "nbconvert_exporter": "python",
   "pygments_lexer": "ipython3",
   "version": "3.10.6"
  },
  "orig_nbformat": 4,
  "vscode": {
   "interpreter": {
    "hash": "916dbcbb3f70747c44a77c7bcd40155683ae19c65e1c03b4aa3499c5328201f1"
   }
  }
 },
 "nbformat": 4,
 "nbformat_minor": 2
}
