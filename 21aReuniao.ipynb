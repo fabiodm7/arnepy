{
 "cells": [
  {
   "cell_type": "markdown",
   "metadata": {},
   "source": [
    "# Problema das Moedas Correlacionadas\n",
    "\n",
    "Dois amigos, João e José, estão jogando com duas moedas. Só que essas moedas são correlacionadas. Para a Moeda 1 há 30% de chance de que seja sorteado o valor “CARA”. Se para a Moeda 1 for sorteado o valor “CARA”, há 60% de chance de que seja sorteado o valor “CARA” para a Moeda 2. Ou seja, as moedas estão correlacionadas.\n",
    "\n",
    "O jogo é o seguinte: Se após o lançamento das 2 moedas saírem dois valores “CARA” quem leva o dinheiro da aposta é o João. E se após o lançamento das 2 moedas saírem dois valores “COROA” quem leva o dinheiro da aposta é o José. Se saírem valores “CARA” e “COROA”, não há vencedores.\n",
    "\n",
    "Você consegue fazer uma Simulação de Monte Carlo para determinar quem tem maior probabilidade de ganhar o jogo???"
   ]
  },
  {
   "cell_type": "code",
   "execution_count": 1,
   "metadata": {},
   "outputs": [
    {
     "name": "stdout",
     "output_type": "stream",
     "text": [
      "Probabilidade de dar CARA + CARA: 18.00%\n",
      "Probabilidade de dar COROA + COROA: 49.00%\n",
      "Probabilidade de ninguem vencer: 32.99%\n",
      "Total: 100.00%\n"
     ]
    }
   ],
   "source": [
    "# Problema das moedas correlacionadas\n",
    "\n",
    "import random\n",
    "\n",
    "duplo_cara = 0\n",
    "duplo_coroa = 0\n",
    "cara_coroa = 0\n",
    "amostra = 9000000\n",
    "\n",
    "for i in range(amostra):\n",
    "    # moeda1 = random.choice(['H','H','H','T','T','T','T','T','T','T'])\n",
    "    moeda1 = 'H' if random.random() < 0.3 else 'T' # 30% de chances de sair cara (H)\n",
    "    if moeda1 == 'H':\n",
    "        # moeda2 = random.choice(['H','H','H','H','H','H','T','T','T','T'])\n",
    "        moeda2 = 'H' if random.random() < 0.6 else 'T' # 60% de chances de sair cara (H)\n",
    "    else:\n",
    "        # moeda2 = random.choice(['H','H','H','H','H','H','T','T','T','T'])\n",
    "        moeda2 = 'H' if random.random() < 0.3 else 'T' # 30% de chances de sair cara (H)\n",
    "        # moeda2 = random.choice(['H','T'])\n",
    "    \n",
    "    if moeda1 + moeda2 == 'HH':\n",
    "        duplo_cara += 1 # duplo_cara = duplo_cara + 1\n",
    "    elif moeda1 + moeda2 == 'TT':\n",
    "        duplo_coroa += 1 # duplo_coroa = duplo_coroa + 1\n",
    "    else:\n",
    "        cara_coroa += 1 # cara_coroa = cara_coroa + 1\n",
    "\n",
    "prob_duplo_cara = duplo_cara / amostra * 100\n",
    "prob_duplo_coroa = duplo_coroa / amostra * 100\n",
    "prob_cara_coroa = cara_coroa / amostra * 100\n",
    "total = prob_duplo_cara + prob_duplo_coroa + prob_cara_coroa\n",
    "\n",
    "print('''Probabilidade de dar CARA + CARA: {0:.2f}%\n",
    "Probabilidade de dar COROA + COROA: {1:.2f}%\n",
    "Probabilidade de ninguem vencer: {2:.2f}%\n",
    "Total: {3:.2f}%'''.format(prob_duplo_cara,prob_duplo_coroa,prob_cara_coroa,total)\n",
    ")"
   ]
  },
  {
   "cell_type": "markdown",
   "metadata": {},
   "source": [
    "# Problema da sazonalização"
   ]
  },
  {
   "cell_type": "markdown",
   "metadata": {},
   "source": [
    "A carga que o consumidor quer contratar para os 12 meses do próximo ano é a carga acima. Ela foi “quantificada” tomando-se como base as cargas históricas de anos passados e também levando-se em consideração algumas ampliações fabris que vão acontecer no próximo ano.\n",
    "\n",
    "Para a análise simplificada que pretendemos fazer aqui, vamos considerar que a carga a ser contratada é determinística. Ou seja, existe 100% de certeza que serão consumidos esses valores no próximo ano (o consumo não entra no problema como uma variável estocástica).\n",
    "\n",
    "O PLD mensal que vamos considerar, também por razões de simplificação, é considerado determinístico e não estocástico. Ele foi “quantificado” tomando-se como base os PLDs históricos dos anos passados e também levando-se em consideração algumas suposições de comportamento futuro do PLD."
   ]
  },
  {
   "cell_type": "code",
   "execution_count": 2,
   "metadata": {},
   "outputs": [],
   "source": [
    "import numpy as np\n",
    "\n",
    "consumo_mwmed = np.array([2.20, 3.52, 5.34, 2.70, 8.51, 2.92, 9.58, 12.4, 15.68, 13.95, 5.53, 5.53]) # em MWmed\n",
    "\n",
    "numero_horas_mes = np.array([744.00, 672.00, 744.00, 720.00, 744.00, 720.00, 744.00, 744.00, 720.00, 744.00, 720.00, 744.00])\n",
    "\n",
    "pld_reais_mwh = np.array([242.72, 165.98, 109.02, 132.63, 218.70, 336.99, 583.88, 583.88, 577.37, 249.36, 88.10, 66.67]) # em R$/MWh"
   ]
  },
  {
   "cell_type": "code",
   "execution_count": 3,
   "metadata": {},
   "outputs": [
    {
     "name": "stdout",
     "output_type": "stream",
     "text": [
      "Meses: 12\n",
      "Consumo previsto em MW médio: 7.36\n"
     ]
    }
   ],
   "source": [
    "meses = len(consumo_mwmed)\n",
    "\n",
    "consumo_mwh = consumo_mwmed * numero_horas_mes # projecao_consumo_mwh\n",
    "\n",
    "consumo_previsto_mwmed = np.sum(consumo_mwh) / np.sum(numero_horas_mes)\n",
    "\n",
    "print('Meses: {}'.format(meses))\n",
    "print('Consumo previsto em MW médio: {:,.2f}'.format(consumo_previsto_mwmed))"
   ]
  },
  {
   "cell_type": "markdown",
   "metadata": {},
   "source": [
    "**Pergunta-se:** Considerando-se os 4 Contratos disponíveis abaixo, qual é o melhor contrato para esse consumidor???\n",
    "\n",
    "**CONTRATO-1** \\\n",
    "Quantidade Contrato (MWmed) = 8.0 \\\n",
    "Preço do Contrato (R$/MWh) = 120.0 \\\n",
    "Percentual de Sazo = 0.0 \\\n",
    "Percentual de Flex = 0.0\n"
   ]
  },
  {
   "cell_type": "code",
   "execution_count": 4,
   "metadata": {},
   "outputs": [
    {
     "name": "stdout",
     "output_type": "stream",
     "text": [
      "Custo previsto o contrato: 11,606,108.81\n"
     ]
    }
   ],
   "source": [
    "\n",
    "quantidade_contrato = 8\n",
    "preco_contrato = 120\n",
    "# quantidade_contrato = 15\n",
    "# preco_contrato = 140\n",
    "percentual_sazo = 0\n",
    "percentual_flex = 0\n",
    "\n",
    "# 1. Calcular a quantidade sazonalizada do contrato\n",
    "contrato_mwh = quantidade_contrato * numero_horas_mes\n",
    "\n",
    "# 2. Calcular a exposicao ao mcp:\n",
    "# Subtratir o contrato sazonalizado do consumo sazonalizado previsto\n",
    "# ATENÇÃO ao significado do sinal da conta: negativo é dívida ou crédito?!\n",
    "exposicao_mcp_mwh = consumo_mwh - contrato_mwh # contrato_mwh - consumo_mwh\n",
    "\n",
    "exposicao_mcp_reais = exposicao_mcp_mwh * pld_reais_mwh\n",
    "\n",
    "total_exposicao_mcp_reais = np.sum(exposicao_mcp_reais) # * -1\n",
    "\n",
    "# 3. Calcular o custo do contrato\n",
    "# Multiplicar o contrato sazonalizado pelo valor negociado\n",
    "custo_contrato_reais = contrato_mwh * preco_contrato\n",
    "\n",
    "total_custo_contrato_reais = np.sum(custo_contrato_reais)\n",
    "\n",
    "# 4. Somar o custo total do contrato com o total de exposição ao mcp\n",
    "total_custo_contrato_exposicao_mcp_reais = total_custo_contrato_reais + total_exposicao_mcp_reais\n",
    "\n",
    "print('Custo previsto o contrato: {:,.2f}'.format(total_custo_contrato_exposicao_mcp_reais))\n",
    "\n",
    "# contrato_mwh = contratoMwh(quantidade_contrato,Numero_horas_mes)\n",
    "# exposicao_mcp_mwh = expoMcpMwh(contrato_mwh,projecao_consumo_mwh)\n",
    "# exposicao_mcp_reais = expoMcpReais(pld,quantidade_contrato,percentual_flex,projecao_consumo_mwh)\n",
    "# custo_contrato = custoContrato(contrato_mwh,preco_contrato)\n",
    "# contrato_mais_exposicao_mcp = contratoMaisExposicao(custo_contrato,exposicao_mcp_reais)\n",
    "# print(contrato_mais_exposicao_mcp)\n",
    "# sazo_minima , sazo_maxima = sazoMinimaMaxima(percentual_sazo)\n",
    "# sazo_minima_mwh , sazo_maxima_mwh = sazoMinimaMaximaMwh(volume_flat_mwh,sazo_minima,sazo_maxima)\n",
    "# sazo_contrato = sazoContrato(Numero_horas_mes,quantidade_contrato,percentual_sazo)\n",
    "# sazo_flat_min_mwh , sazo_flat_max_mwh = sazoFlatMinMaxMwh(sazo_contrato,percentual_flex)\n",
    "# expo_mcp_mwh = expoMcpMwh(sazo_contrato,projecao_consumo_mwh)\n",
    "# total_exposicao_mcp_reais = expoMcpReais(expo_mcp_mwh,pld)\n",
    "# custo_contrato = custoContrato(sazo_contrato,preco_contrato)\n",
    "# custo_mais_exposicao = contratoMaisExposicao(custo_contrato,total_exposicao_mcp_reais)\n",
    "# contratos.append(custo_mais_exposicao)\n",
    "# graf_sazo(10,4,x,projecao_consumo_mwh,volume_flat_mwh,sazo_contrato,sazo_flat_min_mwh,sazo_flat_max_mwh,custo_mais_exposicao)\n"
   ]
  },
  {
   "cell_type": "markdown",
   "metadata": {},
   "source": [
    "\n",
    "**CONTRATO-2** \\\n",
    "Quantidade Contrato (MWmed) = 6.0 \\\n",
    "Preço do Contrato (R$/MWh) = 190.0 \\\n",
    "Percentual de Sazo = 0.0 \\\n",
    "Percentual de Flex = 0.3\n"
   ]
  },
  {
   "cell_type": "code",
   "execution_count": 5,
   "metadata": {},
   "outputs": [
    {
     "name": "stdout",
     "output_type": "stream",
     "text": [
      "Custo previsto o contrato: 16,462,602.24\n"
     ]
    }
   ],
   "source": [
    "quantidade_contrato = 6.0\n",
    "preco_contrato = 190.0\n",
    "percentual_sazo = 0\n",
    "percentual_flex = 0.3\n",
    "# preco_contrato = 170.0\n",
    "# percentual_flex = 0.4\n",
    "\n",
    "# 1. Calcular a quantidade sazonalizada do contrato\n",
    "contrato_mwh = quantidade_contrato * numero_horas_mes\n",
    "\n",
    "# 2. Calcular a exposicao ao mcp:\n",
    "# Subtratir o contrato sazonalizado do consumo sazonalizado previsto\n",
    "# ATENÇÃO ao significado do sinal da conta: negativo é dívida ou crédito?!\n",
    "\n",
    "# 2.1 Calcular limites máximo e minimo do percentual de flexibilidade sazonalizado\n",
    "limite_maximo_flex_mwh = (1 + percentual_flex) * quantidade_contrato * numero_horas_mes\n",
    "limite_minimo_flex_mwh = (1 - percentual_flex) * quantidade_contrato * numero_horas_mes\n",
    "\n",
    "# 2.2 Calcular a quantidade de exposição se o consumo for acima ou abaixo dos limites\n",
    "exposicao_mcp_mwh = np.zeros(meses)\n",
    "for i in range(meses):\n",
    "    if consumo_mwh[i] > limite_maximo_flex_mwh[i]:\n",
    "        exposicao_mcp_mwh[i] = consumo_mwh[i] - limite_maximo_flex_mwh[i]\n",
    "    if consumo_mwh[i] < limite_minimo_flex_mwh[i]:\n",
    "        exposicao_mcp_mwh[i] = consumo_mwh[i] - limite_minimo_flex_mwh[i]\n",
    "\n",
    "exposicao_mcp_reais = exposicao_mcp_mwh * pld_reais_mwh\n",
    "\n",
    "total_exposicao_mcp_reais = np.sum(exposicao_mcp_reais) # * -1\n",
    "\n",
    "# 3. Calcular o custo do contrato\n",
    "# Multiplicar o contrato sazonalizado pelo valor negociado\n",
    "custo_contrato_reais = np.zeros(meses)\n",
    "\n",
    "for i in range(meses):\n",
    "    # 3.1 Se o consumo estiver nos limites de flexbilidade, cobra o consumo pelo preço do contrato\n",
    "    if limite_minimo_flex_mwh[i] <= consumo_mwh[i] <= limite_maximo_flex_mwh[i]:\n",
    "        custo_contrato_reais[i] = consumo_mwh[i] * preco_contrato\n",
    "    # 3.2 Se o consumo estiver acima do limite de flexbilidade, cobra o limite máximo pelo preço do contrato\n",
    "    if consumo_mwh[i] > limite_maximo_flex_mwh[i]:\n",
    "        custo_contrato_reais[i] = limite_maximo_flex_mwh[i] * preco_contrato\n",
    "    # 3.1 Se o consumo estiver abaixo do limite de flexbilidade, cobra o limite mínimo pelo preço do contrato\n",
    "    if consumo_mwh[i] < limite_minimo_flex_mwh[i]:\n",
    "        custo_contrato_reais[i] = limite_minimo_flex_mwh[i] * preco_contrato\n",
    "\n",
    "total_custo_contrato_reais = np.sum(custo_contrato_reais)\n",
    "\n",
    "# 4. Somar o custo total do contrato com o total de exposição ao mcp\n",
    "total_custo_contrato_exposicao_mcp_reais = total_custo_contrato_reais + total_exposicao_mcp_reais\n",
    "\n",
    "print('Custo previsto o contrato: {:,.2f}'.format(total_custo_contrato_exposicao_mcp_reais))\n",
    "\n",
    "# contrato_mwh = contratoMwh(quantidade_contrato,Numero_horas_mes)\n",
    "# exposicao_mcp_mwh = consumoComFlex(quantidade_contrato,percentual_flex,projecao_consumo_mwh,meses) # expoMcpMwh(contrato_mwh,projecao_consumo_mwh)\n",
    "# exposicao_mcp_reais = expoMcpReais(pld,quantidade_contrato,percentual_flex,projecao_consumo_mwh,meses)\n",
    "# custo_contrato = custoContrato(contrato_mwh,preco_contrato)\n",
    "# contrato_mais_exposicao_mcp = contratoMaisExposicao(custo_contrato,exposicao_mcp_reais)\n",
    "# print(exposicao_mcp_mwh)\n",
    "\n",
    "# sazo_minima , sazo_maxima = sazoMinimaMaxima(percentual_sazo)\n",
    "# sazo_minima_mwh , sazo_maxima_mwh = sazoMinimaMaximaMwh(volume_flat_mwh,sazo_minima,sazo_maxima)\n",
    "# sazo_contrato = sazoContrato(Numero_horas_mes,quantidade_contrato,percentual_sazo)\n",
    "# sazo_flat_min_mwh , sazo_flat_max_mwh = sazoFlatMinMaxMwh(sazo_contrato,percentual_flex)\n",
    "# expo_mcp_mwh = expoMcpMwh(sazo_contrato,projecao_consumo_mwh)\n",
    "# total_exposicao_mcp_reais = expoMcpReais(expo_mcp_mwh,pld)\n",
    "# custo_contrato = custoContrato(sazo_contrato,preco_contrato)\n",
    "# custo_mais_exposicao = contratoMaisExposicao(custo_contrato,total_exposicao_mcp_reais)\n",
    "# contratos.append(custo_mais_exposicao)\n",
    "# graf_sazo(10,4,x,projecao_consumo_mwh,volume_flat_mwh,sazo_contrato,sazo_flat_min_mwh,sazo_flat_max_mwh,custo_mais_exposicao)\n"
   ]
  },
  {
   "cell_type": "markdown",
   "metadata": {},
   "source": [
    "\n",
    "**CONTRATO-3** \\\n",
    "Quantidade Contrato (MWmed) = 5.0 \\\n",
    "Preço do Contrato (R$/MWh) = 220.0 \\\n",
    "Percentual de Sazo = 0.4 \\\n",
    "Percentual de Flex = 0.0\n"
   ]
  },
  {
   "cell_type": "code",
   "execution_count": 6,
   "metadata": {},
   "outputs": [
    {
     "name": "stdout",
     "output_type": "stream",
     "text": [
      "Valor ideal:  -9487179.84 \n",
      "Valores de X:  [8640. 2688. 2976. 2880. 2976. 8640. 8928. 8928. 8640. 8928. 2880. 2976.] \n",
      "Iterações realizadas:  1 \n",
      "Status:  Optimization terminated successfully. (HiGHS Status 7: Optimal)\n"
     ]
    }
   ],
   "source": [
    "quantidade_contrato = 5\n",
    "preco_contrato = 220\n",
    "percentual_sazo = 0.4\n",
    "percentual_flex = 0\n",
    "# quantidade_contrato = 8\n",
    "# percentual_sazo = 0.5\n",
    "\n",
    "from scipy.optimize import linprog\n",
    "\n",
    "# 1. Calcular a quantidade sazonalizada do contrato\n",
    "contrato_mwh = quantidade_contrato * numero_horas_mes\n",
    "\n",
    "# 2. Calcular a exposicao ao mcp:\n",
    "# Subtratir o contrato sazonalizado do consumo sazonalizado previsto\n",
    "# ATENÇÃO ao significado do sinal da conta: negativo é dívida ou crédito?!\n",
    "\n",
    "# 2.1 Calcular limites máximo e minimo do percentual de flexibilidade sazonalizado\n",
    "limite_maximo_flex_sazo_mwh = (1 + percentual_flex) * (1 + percentual_sazo) * quantidade_contrato * numero_horas_mes\n",
    "limite_minimo_flex_sazo_mwh = (1 - percentual_flex) * (1 - percentual_sazo) * quantidade_contrato * numero_horas_mes\n",
    "\n",
    "vetor_limites = []\n",
    "for i in range(meses):\n",
    "    limites = (limite_minimo_flex_sazo_mwh[i],limite_maximo_flex_sazo_mwh[i])\n",
    "    vetor_limites.append(limites)\n",
    "\n",
    "vetor_w = preco_contrato - pld_reais_mwh\n",
    "\n",
    "matriz_igualdade_a = np.ones((1,12))\n",
    "\n",
    "igualdade_b = quantidade_contrato * 365 * 24\n",
    "\n",
    "solucao = linprog(vetor_w,A_ub=None,b_ub=None,A_eq=matriz_igualdade_a,b_eq=igualdade_b,bounds=vetor_limites,method='highs',callback=None,options=None,x0=None)\n",
    "\n",
    "print('Valor ideal: ',round(solucao.fun, ndigits=2),\n",
    "    '\\nValores de X: ', solucao.x,\n",
    "    '\\nIterações realizadas: ', solucao.nit,\n",
    "    '\\nStatus: ', solucao.message,\n",
    ")\n",
    "\n",
    "# sazo_minima , sazo_maxima = sazoMinimaMaxima(percentual_sazo)\n",
    "# sazo_minima_mwh , sazo_maxima_mwh = sazoMinimaMaximaMwh(volume_flat_mwh,sazo_minima,sazo_maxima)\n",
    "# sazo_contrato = sazoContrato(Numero_horas_mes,quantidade_contrato,percentual_sazo)\n",
    "# sazo_flat_min_mwh , sazo_flat_max_mwh = sazoFlatMinMaxMwh(sazo_contrato,percentual_flex)\n",
    "# expo_mcp_mwh = expoMcpMwh(sazo_contrato,projecao_consumo_mwh)\n",
    "# total_exposicao_mcp_reais = expoMcpReais(expo_mcp_mwh,pld)\n",
    "# custo_contrato = custoContrato(sazo_contrato,preco_contrato)\n",
    "# custo_mais_exposicao = contratoMaisExposicao(custo_contrato,total_exposicao_mcp_reais)\n",
    "# contratos.append(custo_mais_exposicao)\n",
    "# graf_sazo(10,4,x,projecao_consumo_mwh,volume_flat_mwh,sazo_contrato,sazo_flat_min_mwh,sazo_flat_max_mwh,custo_mais_exposicao)\n"
   ]
  },
  {
   "cell_type": "markdown",
   "metadata": {},
   "source": [
    "\n",
    "**CONTRATO-4** \\\n",
    "Quantidade Contrato (MWmed) = 8.0 \\\n",
    "Preço do Contrato (R$/MWh) = 240.0 \\\n",
    "Percentual de Sazo = 0.5 \\\n",
    "Percentual de Flex = 0.5"
   ]
  },
  {
   "cell_type": "code",
   "execution_count": 7,
   "metadata": {},
   "outputs": [],
   "source": [
    "quantidade_contrato = 8\n",
    "preco_contrato = 240\n",
    "percentual_sazo = 0.5\n",
    "percentual_flex = 0.5\n",
    "\n",
    "# sazo_minima , sazo_maxima = sazoMinimaMaxima(percentual_sazo)\n",
    "# sazo_minima_mwh , sazo_maxima_mwh = sazoMinimaMaximaMwh(volume_flat_mwh,sazo_minima,sazo_maxima)\n",
    "# sazo_contrato = sazoContrato(Numero_horas_mes,quantidade_contrato,percentual_sazo)\n",
    "# sazo_flat_min_mwh , sazo_flat_max_mwh = sazoFlatMinMaxMwh(sazo_contrato,percentual_flex)\n",
    "# expo_mcp_mwh = expoMcpMwh(sazo_contrato,projecao_consumo_mwh)\n",
    "# total_exposicao_mcp_reais = expoMcpReais(expo_mcp_mwh,pld)\n",
    "# custo_contrato = custoContrato(sazo_contrato,preco_contrato)\n",
    "# custo_mais_exposicao = contratoMaisExposicao(custo_contrato,total_exposicao_mcp_reais)\n",
    "# contratos.append(custo_mais_exposicao)\n",
    "# graf_sazo(10,4,x,projecao_consumo_mwh,volume_flat_mwh,sazo_contrato,sazo_flat_min_mwh,sazo_flat_max_mwh,custo_mais_exposicao)\n",
    "\n",
    "# print(contratos)\n",
    "# print('Melhor Contrato: CONTRATO ',melhorContrato(contratos))\n"
   ]
  },
  {
   "cell_type": "markdown",
   "metadata": {},
   "source": [
    "## Errado"
   ]
  },
  {
   "cell_type": "code",
   "execution_count": 8,
   "metadata": {},
   "outputs": [],
   "source": [
    "# import matplotlib.pyplot as plt\n",
    "\n",
    "# def graf_sazo(largura,altura,meses,projecao,volume_flat,sazo_contrato,sazo_flat_min,sazo_flat_max,custo_contrato):\n",
    "#     fig, ax = plt.subplots(figsize = (largura,altura))\n",
    "#     ax.grid()\n",
    "#     ax.plot(meses, projecao, color='navy', label='Projeção de consumo', **{'marker': '.'})\n",
    "#     ax.plot(meses, volume_flat, color='green', label='Volume flat', **{'marker': '.'})\n",
    "#     ax.plot(meses, sazo_contrato, color='firebrick', label='Proposta de sazo', **{'marker': '.'})\n",
    "#     ax.fill_between(meses, sazo_flat_min, sazo_flat_max, alpha=.5, linewidth=0, label='Sazo + Flex')\n",
    "#     ax.set_title('Sazonalização | Custo do contrato: R$ {0:.2f}'.format(custo_contrato))\n",
    "#     ax.set_xticks(meses)\n",
    "#     ax.set_xlabel('meses')\n",
    "#     ax.set_ylabel('volume (MWh)')\n",
    "#     ax.legend()\n",
    "#     plt.show()\n",
    "    \n",
    "# x = np.arange(meses) + 1\n",
    "\n",
    "# volume_flat_mwmed = np.sum(projecao_consumo_mwh) / np.sum(numero_horas_mes)\n",
    "# volume_flat_mwh = volume_flat_mwmed * numero_horas_mes\n",
    "\n",
    "# contratos = []\n",
    "\n",
    "# def contratoMwh(contrato,Numero_horas_mes):\n",
    "#     return contrato * Numero_horas_mes\n",
    "\n",
    "# def expoMcpMwh(contrato,consumo):\n",
    "#     return contrato - consumo\n",
    "\n",
    "# def expoMcpReais(pld,quantidade_contrato,percentual_flex=0,projecao_consumo_mwh=0,meses=12):\n",
    "#     if percentual_flex == 0:\n",
    "#         return np.sum(expoMcpMwh(quantidade_contrato,projecao_consumo_mwh) * pld) * -1\n",
    "#     else:\n",
    "#         return consumoComFlex(quantidade_contrato,percentual_flex,projecao_consumo_mwh,meses)\n",
    "\n",
    "# def custoContrato(contrato,preco,percentual_flex):\n",
    "#     if percentual_flex == 0:\n",
    "#         return np.sum(contrato * preco)\n",
    "#     else:\n",
    "        \n",
    "\n",
    "# def contratoMaisExposicao(custoContratoReais,exposicaoMcpReais):\n",
    "#     return custoContratoReais + exposicaoMcpReais\n",
    "\n",
    "# # def sazoFlatMinMaxMwh(sazo_contrato,percentual_flex):\n",
    "# #     sazoFlatMinMwh = sazo_contrato * (1 - percentual_flex)\n",
    "# #     sazoFlatMaxMwh = sazo_contrato * (1 + percentual_flex)\n",
    "# #     return sazoFlatMinMwh , sazoFlatMaxMwh\n",
    "\n",
    "# def consumoComFlex(quantidade_contrato,percentual_flex,projecao_consumo_mwh,meses):\n",
    "#     limiteMinimoFlex = quantidade_contrato * (1 - percentual_flex)\n",
    "#     limiteMaximoFlex = quantidade_contrato * (1 + percentual_flex)\n",
    "#     exposicao_com_flex = np.zeros(meses)\n",
    "    \n",
    "#     for i in range(meses):\n",
    "#         if projecao_consumo_mwh[i] > limiteMaximoFlex:\n",
    "#             exposicao_com_flex[i] = projecao_consumo_mwh[i] - limiteMaximoFlex\n",
    "#         if projecao_consumo_mwh[i] < limiteMinimoFlex:\n",
    "#             exposicao_com_flex[i] = projecao_consumo_mwh[i] - limiteMinimoFlex\n",
    "    \n",
    "#     return np.sum(exposicao_com_flex)\n",
    "\n",
    "# def sazoMinimaMaxima(percentual_sazo):\n",
    "#     sazoMinima = 1 - percentual_sazo\n",
    "#     sazoMaxima = 1 + percentual_sazo\n",
    "#     return sazoMinima , sazoMaxima \n",
    "\n",
    "# def sazoMinimaMaximaMwh(volume_flat_mwh,sazo_minima,sazo_maxima):\n",
    "#     sazoMinimaMwh = volume_flat_mwh * sazo_minima\n",
    "#     sazoMaximaMwh = volume_flat_mwh * sazo_maxima\n",
    "#     return sazoMinimaMwh , sazoMaximaMwh\n",
    "\n",
    "# def sazoContrato(Numero_horas_mes,quantidade_contrato,percentual_sazo):\n",
    "#     return Numero_horas_mes * quantidade_contrato * (1 + percentual_sazo)\n",
    "\n",
    "\n",
    "# def melhorContrato(contratos):\n",
    "#     # contrato = 0\n",
    "#     valor = contratos[-1]\n",
    "#     for c,v in enumerate(contratos):\n",
    "#         if v < valor:\n",
    "#             valor = v\n",
    "#             contrato = c\n",
    "    \n",
    "#     return contrato\n"
   ]
  },
  {
   "cell_type": "markdown",
   "metadata": {},
   "source": [
    "# Linear Programming with Python\n",
    "[Fonte](https://towardsdatascience.com/linear-programming-with-python-db7742b91cb)  \n",
    "[Documentação](https://docs.scipy.org/doc/scipy/reference/generated/scipy.optimize.linprog.html)"
   ]
  },
  {
   "cell_type": "markdown",
   "metadata": {},
   "source": [
    "Um problema de otimização é composto por 03 componentes:\n",
    "- **Função objetivo:** função matemática que se quer uma solução *maximizada* ou *minimizada*\n",
    "- **Variáveis de decisão:** variáveis controladas que *influenciam* o modelo\n",
    "- **Restrições:** conjunto de regras que as **variáveis de decisão** devem seguir\n",
    "\n",
    "## Modelando o problema\n",
    "\n",
    "1. **Definição do problema:** Descrever as variáveis de decisão, suas restrição e o objetivo da otimização (maximizar/minizar)\n",
    "2. **Construção no modelo:** Representação matemática do problema, definição da função objetivo\n",
    "3. **Solução do modelo:** Avalição de sensibilidade da solução encontrada com algumas alterações de parâmetros\n",
    "4. **Validação do modelo:** Verifiacar se o modelo funciona como esperado\n",
    "5. **Implementação:** Traduzir os resultados como recomendação de uma solução\n",
    "\n",
    "## Programação linear (LP)\n",
    "\n",
    "- Todos os objetivos são lineares\n",
    "- Todos as restrições são lineares\n",
    "- Todas as variáveis de decisão são contínuas\n",
    "\n",
    "### Exemplo\n",
    "\n",
    "min(z) = 10x' + 15x'' + 25x'''  \n",
    "Restrições: {  \n",
    "> 1x' + 1x'' + 1x''' >= 1000,  \n",
    "> 1x' - 2x'' + 0x''' >= 0,  \n",
    "> 0x' + 0x'' + 1x''' >= 340,  \n",
    "> x', x'', x''' >= 0  \n",
    "\n",
    "}"
   ]
  },
  {
   "cell_type": "code",
   "execution_count": 9,
   "metadata": {},
   "outputs": [
    {
     "name": "stdout",
     "output_type": "stream",
     "text": [
      "Valor ideal:  15100.0 \n",
      "Valores de X:  [660.   0. 340.] \n",
      "Iterações realizadas:  0 \n",
      "Status:  Optimization terminated successfully. (HiGHS Status 7: Optimal)\n"
     ]
    }
   ],
   "source": [
    "# matriz de restrições de desigualdades\n",
    "\n",
    "A_ub = np.array([\n",
    "    [-1,-1,-1], # 1x' + 1x'' + 1x''' >= 1000 --> -1x' - 1x'' - 1x''' <= -1000\n",
    "    [-1, 2, 0], # 1x' - 2x'' + 0x''' >= 0    --> -1x' + 2x'' - 0x''' <= 0\n",
    "    [ 0, 0,-1], # 0x' + 0x'' + 1x''' >= 340  --> -0x' - 0x'' - 1x''' <= -340\n",
    "    [-1, 0, 0], # x' >= 0                    --> -x' <= 0\n",
    "    [ 0,-1, 0], # x'' >= 0                   --> -x'' <= 0\n",
    "    [ 0, 0,-1]  # x''' >= 0                  --> -x''' <= 0\n",
    "])\n",
    "\n",
    "# vetor de restrições de desigualdades\n",
    "\n",
    "b_ub = np.array([-1000, 0,-340, 0, 0, 0])\n",
    "\n",
    "# coeficientes da função objetivo\n",
    "\n",
    "c = np.array([10,15,25])\n",
    "\n",
    "resultado = linprog(c,A_ub=A_ub,b_ub=b_ub)\n",
    "\n",
    "print('Valor ideal: ',round(resultado.fun, ndigits=2),\n",
    "    '\\nValores de X: ', resultado.x,\n",
    "    '\\nIterações realizadas: ', resultado.nit,\n",
    "    '\\nStatus: ', resultado.message,\n",
    ")"
   ]
  },
  {
   "cell_type": "code",
   "execution_count": null,
   "metadata": {},
   "outputs": [],
   "source": []
  }
 ],
 "metadata": {
  "kernelspec": {
   "display_name": "Python 3.10.6 64-bit",
   "language": "python",
   "name": "python3"
  },
  "language_info": {
   "codemirror_mode": {
    "name": "ipython",
    "version": 3
   },
   "file_extension": ".py",
   "mimetype": "text/x-python",
   "name": "python",
   "nbconvert_exporter": "python",
   "pygments_lexer": "ipython3",
   "version": "3.10.6"
  },
  "orig_nbformat": 4,
  "vscode": {
   "interpreter": {
    "hash": "916dbcbb3f70747c44a77c7bcd40155683ae19c65e1c03b4aa3499c5328201f1"
   }
  }
 },
 "nbformat": 4,
 "nbformat_minor": 2
}
